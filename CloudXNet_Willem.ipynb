{
 "cells": [
  {
   "cell_type": "code",
   "execution_count": 1,
   "metadata": {
    "gradient": {
     "editing": false,
     "execution_count": 93,
     "id": "592638c0-afdd-4665-8c17-af79e8b774ab",
     "kernelId": "9e65caa5-9ec9-4353-8b91-12ba92c5cd1b"
    }
   },
   "outputs": [],
   "source": [
    "import os\n",
    "import numpy as np\n",
    "import pandas as pd\n",
    "import random\n",
    "import matplotlib.pyplot as plt\n",
    "from tqdm import tqdm \n",
    "from PIL import Image\n",
    "from sklearn.metrics import confusion_matrix\n",
    "# import cv2 #pip install opencv-python==4.0.0.21\n",
    "import glob\n",
    "\n",
    "import tensorflow as tf\n",
    "from tensorflow.keras.callbacks import TensorBoard\n",
    "from tensorflow.keras.models import Model\n",
    "from tensorflow.keras.layers import *\n",
    "from tensorflow.keras.optimizers import *\n",
    "from tensorflow.keras import backend as K\n",
    "\n",
    "from skimage.io import imread, imshow\n",
    "from skimage.transform import resize\n",
    "\n",
    "import rasterio as rio\n",
    "from rasterio.plot import show\n",
    "\n",
    "from build_model import model_arch\n",
    "import utils\n",
    "from metrics import *\n",
    "from generator import DataGenerator"
   ]
  },
  {
   "cell_type": "code",
   "execution_count": 2,
   "metadata": {
    "gradient": {
     "editing": false,
     "execution_count": 94,
     "id": "212db31f-eb28-4bcf-9bb1-1e88f4c91463",
     "kernelId": "9e65caa5-9ec9-4353-8b91-12ba92c5cd1b"
    }
   },
   "outputs": [],
   "source": [
    "# !pip install matplotlib\n",
    "# !pip install scikit-image\n",
    "# !pip install rioxarray\n",
    "# !pip install earthpy\n",
    "# !pip install scikit-learn\n",
    "# !pip install opencv-python==4.0.0.21"
   ]
  },
  {
   "cell_type": "code",
   "execution_count": 3,
   "metadata": {
    "gradient": {
     "editing": false,
     "execution_count": 95,
     "id": "d36ed2e6-884c-401d-bfe9-378cd4b80398",
     "kernelId": "9e65caa5-9ec9-4353-8b91-12ba92c5cd1b"
    }
   },
   "outputs": [
    {
     "name": "stdout",
     "output_type": "stream",
     "text": [
      "/Users/Willem/Werk/510/510_cloud_detection/dataset_input/\n",
      "/notebooks/510_cloud_detection/saved_models/0113v0_model\n"
     ]
    }
   ],
   "source": [
    "dataset = 'dataset_input/' # name of folder \n",
    "path_data = '/Users/Willem/Werk/510/510_cloud_detection/' + dataset\n",
    "print(path_data)\n",
    "\n",
    "model_name = '0113v0_model' # month, day, version, _model\n",
    "path_model = '/notebooks/510_cloud_detection/saved_models/' + model_name\n",
    "print(path_model)"
   ]
  },
  {
   "cell_type": "code",
   "execution_count": 4,
   "metadata": {},
   "outputs": [],
   "source": [
    "train_im = utils.get_list_of_files(os.path.join(path_data, 'rgb_images/train/'))\n",
    "train_an = utils.get_list_of_files(os.path.join(path_data, 'annotations/train/'))"
   ]
  },
  {
   "cell_type": "code",
   "execution_count": null,
   "metadata": {},
   "outputs": [],
   "source": []
  },
  {
   "cell_type": "code",
   "execution_count": 5,
   "metadata": {},
   "outputs": [],
   "source": [
    "def pre_process_255(X):\n",
    "    return X/255 #specify type?"
   ]
  },
  {
   "cell_type": "code",
   "execution_count": 9,
   "metadata": {},
   "outputs": [],
   "source": [
    "train_gen = DataGenerator(train_im, train_an, pre_process_255, batch_size=4, width=256,\n",
    "    height=256, augmentation=False)"
   ]
  },
  {
   "cell_type": "code",
   "execution_count": null,
   "metadata": {},
   "outputs": [],
   "source": []
  },
  {
   "cell_type": "code",
   "execution_count": 10,
   "metadata": {
    "gradient": {
     "editing": false,
     "execution_count": 85,
     "id": "abc431d3-0ccc-465f-bffc-a9bb51fc1bb7",
     "kernelId": "9e65caa5-9ec9-4353-8b91-12ba92c5cd1b"
    }
   },
   "outputs": [],
   "source": [
    "model = model_arch(input_rows=256, input_cols=256, num_of_channels=3, num_of_classes=1)\n",
    "model.compile(optimizer = Adam(lr = 1e-4), loss = jacc_loss, metrics = [dice_score,'accuracy'])\n"
   ]
  },
  {
   "cell_type": "code",
   "execution_count": 11,
   "metadata": {
    "collapsed": true,
    "gradient": {
     "editing": false,
     "execution_count": 235,
     "id": "a7dc7de8-5b64-4a69-a999-19c7fa376f5b",
     "kernelId": "9e65caa5-9ec9-4353-8b91-12ba92c5cd1b"
    },
    "jupyter": {
     "outputs_hidden": true
    }
   },
   "outputs": [
    {
     "name": "stdout",
     "output_type": "stream",
     "text": [
      "Train for 78 steps\n",
      "Epoch 1/50\n",
      " 3/78 [>.............................] - ETA: 1:29:57 - loss: 0.8054 - dice_score: 0.3197 - accuracy: 0.3810"
     ]
    },
    {
     "ename": "KeyboardInterrupt",
     "evalue": "",
     "output_type": "error",
     "traceback": [
      "\u001b[0;31m---------------------------------------------------------------------------\u001b[0m",
      "\u001b[0;31mKeyboardInterrupt\u001b[0m                         Traceback (most recent call last)",
      "\u001b[0;32m<ipython-input-11-36c3001a8876>\u001b[0m in \u001b[0;36m<module>\u001b[0;34m\u001b[0m\n\u001b[0;32m----> 1\u001b[0;31m \u001b[0mresults\u001b[0m \u001b[0;34m=\u001b[0m \u001b[0mmodel\u001b[0m\u001b[0;34m.\u001b[0m\u001b[0mfit\u001b[0m\u001b[0;34m(\u001b[0m\u001b[0mtrain_gen\u001b[0m\u001b[0;34m,\u001b[0m \u001b[0mepochs\u001b[0m\u001b[0;34m=\u001b[0m\u001b[0;36m50\u001b[0m\u001b[0;34m,\u001b[0m \u001b[0mverbose\u001b[0m\u001b[0;34m=\u001b[0m\u001b[0;36m1\u001b[0m\u001b[0;34m)\u001b[0m\u001b[0;34m\u001b[0m\u001b[0;34m\u001b[0m\u001b[0m\n\u001b[0m",
      "\u001b[0;32m/opt/anaconda3/lib/python3.7/site-packages/tensorflow_core/python/keras/engine/training.py\u001b[0m in \u001b[0;36mfit\u001b[0;34m(self, x, y, batch_size, epochs, verbose, callbacks, validation_split, validation_data, shuffle, class_weight, sample_weight, initial_epoch, steps_per_epoch, validation_steps, validation_freq, max_queue_size, workers, use_multiprocessing, **kwargs)\u001b[0m\n\u001b[1;32m    726\u001b[0m         \u001b[0mmax_queue_size\u001b[0m\u001b[0;34m=\u001b[0m\u001b[0mmax_queue_size\u001b[0m\u001b[0;34m,\u001b[0m\u001b[0;34m\u001b[0m\u001b[0;34m\u001b[0m\u001b[0m\n\u001b[1;32m    727\u001b[0m         \u001b[0mworkers\u001b[0m\u001b[0;34m=\u001b[0m\u001b[0mworkers\u001b[0m\u001b[0;34m,\u001b[0m\u001b[0;34m\u001b[0m\u001b[0;34m\u001b[0m\u001b[0m\n\u001b[0;32m--> 728\u001b[0;31m         use_multiprocessing=use_multiprocessing)\n\u001b[0m\u001b[1;32m    729\u001b[0m \u001b[0;34m\u001b[0m\u001b[0m\n\u001b[1;32m    730\u001b[0m   def evaluate(self,\n",
      "\u001b[0;32m/opt/anaconda3/lib/python3.7/site-packages/tensorflow_core/python/keras/engine/training_v2.py\u001b[0m in \u001b[0;36mfit\u001b[0;34m(self, model, x, y, batch_size, epochs, verbose, callbacks, validation_split, validation_data, shuffle, class_weight, sample_weight, initial_epoch, steps_per_epoch, validation_steps, validation_freq, **kwargs)\u001b[0m\n\u001b[1;32m    322\u001b[0m                 \u001b[0mmode\u001b[0m\u001b[0;34m=\u001b[0m\u001b[0mModeKeys\u001b[0m\u001b[0;34m.\u001b[0m\u001b[0mTRAIN\u001b[0m\u001b[0;34m,\u001b[0m\u001b[0;34m\u001b[0m\u001b[0;34m\u001b[0m\u001b[0m\n\u001b[1;32m    323\u001b[0m                 \u001b[0mtraining_context\u001b[0m\u001b[0;34m=\u001b[0m\u001b[0mtraining_context\u001b[0m\u001b[0;34m,\u001b[0m\u001b[0;34m\u001b[0m\u001b[0;34m\u001b[0m\u001b[0m\n\u001b[0;32m--> 324\u001b[0;31m                 total_epochs=epochs)\n\u001b[0m\u001b[1;32m    325\u001b[0m             \u001b[0mcbks\u001b[0m\u001b[0;34m.\u001b[0m\u001b[0mmake_logs\u001b[0m\u001b[0;34m(\u001b[0m\u001b[0mmodel\u001b[0m\u001b[0;34m,\u001b[0m \u001b[0mepoch_logs\u001b[0m\u001b[0;34m,\u001b[0m \u001b[0mtraining_result\u001b[0m\u001b[0;34m,\u001b[0m \u001b[0mModeKeys\u001b[0m\u001b[0;34m.\u001b[0m\u001b[0mTRAIN\u001b[0m\u001b[0;34m)\u001b[0m\u001b[0;34m\u001b[0m\u001b[0;34m\u001b[0m\u001b[0m\n\u001b[1;32m    326\u001b[0m \u001b[0;34m\u001b[0m\u001b[0m\n",
      "\u001b[0;32m/opt/anaconda3/lib/python3.7/site-packages/tensorflow_core/python/keras/engine/training_v2.py\u001b[0m in \u001b[0;36mrun_one_epoch\u001b[0;34m(model, iterator, execution_function, dataset_size, batch_size, strategy, steps_per_epoch, num_samples, mode, training_context, total_epochs)\u001b[0m\n\u001b[1;32m    121\u001b[0m         step=step, mode=mode, size=current_batch_size) as batch_logs:\n\u001b[1;32m    122\u001b[0m       \u001b[0;32mtry\u001b[0m\u001b[0;34m:\u001b[0m\u001b[0;34m\u001b[0m\u001b[0;34m\u001b[0m\u001b[0m\n\u001b[0;32m--> 123\u001b[0;31m         \u001b[0mbatch_outs\u001b[0m \u001b[0;34m=\u001b[0m \u001b[0mexecution_function\u001b[0m\u001b[0;34m(\u001b[0m\u001b[0miterator\u001b[0m\u001b[0;34m)\u001b[0m\u001b[0;34m\u001b[0m\u001b[0;34m\u001b[0m\u001b[0m\n\u001b[0m\u001b[1;32m    124\u001b[0m       \u001b[0;32mexcept\u001b[0m \u001b[0;34m(\u001b[0m\u001b[0mStopIteration\u001b[0m\u001b[0;34m,\u001b[0m \u001b[0merrors\u001b[0m\u001b[0;34m.\u001b[0m\u001b[0mOutOfRangeError\u001b[0m\u001b[0;34m)\u001b[0m\u001b[0;34m:\u001b[0m\u001b[0;34m\u001b[0m\u001b[0;34m\u001b[0m\u001b[0m\n\u001b[1;32m    125\u001b[0m         \u001b[0;31m# TODO(kaftan): File bug about tf function and errors.OutOfRangeError?\u001b[0m\u001b[0;34m\u001b[0m\u001b[0;34m\u001b[0m\u001b[0;34m\u001b[0m\u001b[0m\n",
      "\u001b[0;32m/opt/anaconda3/lib/python3.7/site-packages/tensorflow_core/python/keras/engine/training_v2_utils.py\u001b[0m in \u001b[0;36mexecution_function\u001b[0;34m(input_fn)\u001b[0m\n\u001b[1;32m     84\u001b[0m     \u001b[0;31m# `numpy` translates Tensors to values in Eager mode.\u001b[0m\u001b[0;34m\u001b[0m\u001b[0;34m\u001b[0m\u001b[0;34m\u001b[0m\u001b[0m\n\u001b[1;32m     85\u001b[0m     return nest.map_structure(_non_none_constant_value,\n\u001b[0;32m---> 86\u001b[0;31m                               distributed_function(input_fn))\n\u001b[0m\u001b[1;32m     87\u001b[0m \u001b[0;34m\u001b[0m\u001b[0m\n\u001b[1;32m     88\u001b[0m   \u001b[0;32mreturn\u001b[0m \u001b[0mexecution_function\u001b[0m\u001b[0;34m\u001b[0m\u001b[0;34m\u001b[0m\u001b[0m\n",
      "\u001b[0;32m/opt/anaconda3/lib/python3.7/site-packages/tensorflow_core/python/eager/def_function.py\u001b[0m in \u001b[0;36m__call__\u001b[0;34m(self, *args, **kwds)\u001b[0m\n\u001b[1;32m    455\u001b[0m \u001b[0;34m\u001b[0m\u001b[0m\n\u001b[1;32m    456\u001b[0m     \u001b[0mtracing_count\u001b[0m \u001b[0;34m=\u001b[0m \u001b[0mself\u001b[0m\u001b[0;34m.\u001b[0m\u001b[0m_get_tracing_count\u001b[0m\u001b[0;34m(\u001b[0m\u001b[0;34m)\u001b[0m\u001b[0;34m\u001b[0m\u001b[0;34m\u001b[0m\u001b[0m\n\u001b[0;32m--> 457\u001b[0;31m     \u001b[0mresult\u001b[0m \u001b[0;34m=\u001b[0m \u001b[0mself\u001b[0m\u001b[0;34m.\u001b[0m\u001b[0m_call\u001b[0m\u001b[0;34m(\u001b[0m\u001b[0;34m*\u001b[0m\u001b[0margs\u001b[0m\u001b[0;34m,\u001b[0m \u001b[0;34m**\u001b[0m\u001b[0mkwds\u001b[0m\u001b[0;34m)\u001b[0m\u001b[0;34m\u001b[0m\u001b[0;34m\u001b[0m\u001b[0m\n\u001b[0m\u001b[1;32m    458\u001b[0m     \u001b[0;32mif\u001b[0m \u001b[0mtracing_count\u001b[0m \u001b[0;34m==\u001b[0m \u001b[0mself\u001b[0m\u001b[0;34m.\u001b[0m\u001b[0m_get_tracing_count\u001b[0m\u001b[0;34m(\u001b[0m\u001b[0;34m)\u001b[0m\u001b[0;34m:\u001b[0m\u001b[0;34m\u001b[0m\u001b[0;34m\u001b[0m\u001b[0m\n\u001b[1;32m    459\u001b[0m       \u001b[0mself\u001b[0m\u001b[0;34m.\u001b[0m\u001b[0m_call_counter\u001b[0m\u001b[0;34m.\u001b[0m\u001b[0mcalled_without_tracing\u001b[0m\u001b[0;34m(\u001b[0m\u001b[0;34m)\u001b[0m\u001b[0;34m\u001b[0m\u001b[0;34m\u001b[0m\u001b[0m\n",
      "\u001b[0;32m/opt/anaconda3/lib/python3.7/site-packages/tensorflow_core/python/eager/def_function.py\u001b[0m in \u001b[0;36m_call\u001b[0;34m(self, *args, **kwds)\u001b[0m\n\u001b[1;32m    485\u001b[0m       \u001b[0;31m# In this case we have created variables on the first call, so we run the\u001b[0m\u001b[0;34m\u001b[0m\u001b[0;34m\u001b[0m\u001b[0;34m\u001b[0m\u001b[0m\n\u001b[1;32m    486\u001b[0m       \u001b[0;31m# defunned version which is guaranteed to never create variables.\u001b[0m\u001b[0;34m\u001b[0m\u001b[0;34m\u001b[0m\u001b[0;34m\u001b[0m\u001b[0m\n\u001b[0;32m--> 487\u001b[0;31m       \u001b[0;32mreturn\u001b[0m \u001b[0mself\u001b[0m\u001b[0;34m.\u001b[0m\u001b[0m_stateless_fn\u001b[0m\u001b[0;34m(\u001b[0m\u001b[0;34m*\u001b[0m\u001b[0margs\u001b[0m\u001b[0;34m,\u001b[0m \u001b[0;34m**\u001b[0m\u001b[0mkwds\u001b[0m\u001b[0;34m)\u001b[0m  \u001b[0;31m# pylint: disable=not-callable\u001b[0m\u001b[0;34m\u001b[0m\u001b[0;34m\u001b[0m\u001b[0m\n\u001b[0m\u001b[1;32m    488\u001b[0m     \u001b[0;32melif\u001b[0m \u001b[0mself\u001b[0m\u001b[0;34m.\u001b[0m\u001b[0m_stateful_fn\u001b[0m \u001b[0;32mis\u001b[0m \u001b[0;32mnot\u001b[0m \u001b[0;32mNone\u001b[0m\u001b[0;34m:\u001b[0m\u001b[0;34m\u001b[0m\u001b[0;34m\u001b[0m\u001b[0m\n\u001b[1;32m    489\u001b[0m       \u001b[0;31m# Release the lock early so that multiple threads can perform the call\u001b[0m\u001b[0;34m\u001b[0m\u001b[0;34m\u001b[0m\u001b[0;34m\u001b[0m\u001b[0m\n",
      "\u001b[0;32m/opt/anaconda3/lib/python3.7/site-packages/tensorflow_core/python/eager/function.py\u001b[0m in \u001b[0;36m__call__\u001b[0;34m(self, *args, **kwargs)\u001b[0m\n\u001b[1;32m   1821\u001b[0m     \u001b[0;34m\"\"\"Calls a graph function specialized to the inputs.\"\"\"\u001b[0m\u001b[0;34m\u001b[0m\u001b[0;34m\u001b[0m\u001b[0m\n\u001b[1;32m   1822\u001b[0m     \u001b[0mgraph_function\u001b[0m\u001b[0;34m,\u001b[0m \u001b[0margs\u001b[0m\u001b[0;34m,\u001b[0m \u001b[0mkwargs\u001b[0m \u001b[0;34m=\u001b[0m \u001b[0mself\u001b[0m\u001b[0;34m.\u001b[0m\u001b[0m_maybe_define_function\u001b[0m\u001b[0;34m(\u001b[0m\u001b[0margs\u001b[0m\u001b[0;34m,\u001b[0m \u001b[0mkwargs\u001b[0m\u001b[0;34m)\u001b[0m\u001b[0;34m\u001b[0m\u001b[0;34m\u001b[0m\u001b[0m\n\u001b[0;32m-> 1823\u001b[0;31m     \u001b[0;32mreturn\u001b[0m \u001b[0mgraph_function\u001b[0m\u001b[0;34m.\u001b[0m\u001b[0m_filtered_call\u001b[0m\u001b[0;34m(\u001b[0m\u001b[0margs\u001b[0m\u001b[0;34m,\u001b[0m \u001b[0mkwargs\u001b[0m\u001b[0;34m)\u001b[0m  \u001b[0;31m# pylint: disable=protected-access\u001b[0m\u001b[0;34m\u001b[0m\u001b[0;34m\u001b[0m\u001b[0m\n\u001b[0m\u001b[1;32m   1824\u001b[0m \u001b[0;34m\u001b[0m\u001b[0m\n\u001b[1;32m   1825\u001b[0m   \u001b[0;34m@\u001b[0m\u001b[0mproperty\u001b[0m\u001b[0;34m\u001b[0m\u001b[0;34m\u001b[0m\u001b[0m\n",
      "\u001b[0;32m/opt/anaconda3/lib/python3.7/site-packages/tensorflow_core/python/eager/function.py\u001b[0m in \u001b[0;36m_filtered_call\u001b[0;34m(self, args, kwargs)\u001b[0m\n\u001b[1;32m   1139\u001b[0m          if isinstance(t, (ops.Tensor,\n\u001b[1;32m   1140\u001b[0m                            resource_variable_ops.BaseResourceVariable))),\n\u001b[0;32m-> 1141\u001b[0;31m         self.captured_inputs)\n\u001b[0m\u001b[1;32m   1142\u001b[0m \u001b[0;34m\u001b[0m\u001b[0m\n\u001b[1;32m   1143\u001b[0m   \u001b[0;32mdef\u001b[0m \u001b[0m_call_flat\u001b[0m\u001b[0;34m(\u001b[0m\u001b[0mself\u001b[0m\u001b[0;34m,\u001b[0m \u001b[0margs\u001b[0m\u001b[0;34m,\u001b[0m \u001b[0mcaptured_inputs\u001b[0m\u001b[0;34m,\u001b[0m \u001b[0mcancellation_manager\u001b[0m\u001b[0;34m=\u001b[0m\u001b[0;32mNone\u001b[0m\u001b[0;34m)\u001b[0m\u001b[0;34m:\u001b[0m\u001b[0;34m\u001b[0m\u001b[0;34m\u001b[0m\u001b[0m\n",
      "\u001b[0;32m/opt/anaconda3/lib/python3.7/site-packages/tensorflow_core/python/eager/function.py\u001b[0m in \u001b[0;36m_call_flat\u001b[0;34m(self, args, captured_inputs, cancellation_manager)\u001b[0m\n\u001b[1;32m   1222\u001b[0m     \u001b[0;32mif\u001b[0m \u001b[0mexecuting_eagerly\u001b[0m\u001b[0;34m:\u001b[0m\u001b[0;34m\u001b[0m\u001b[0;34m\u001b[0m\u001b[0m\n\u001b[1;32m   1223\u001b[0m       flat_outputs = forward_function.call(\n\u001b[0;32m-> 1224\u001b[0;31m           ctx, args, cancellation_manager=cancellation_manager)\n\u001b[0m\u001b[1;32m   1225\u001b[0m     \u001b[0;32melse\u001b[0m\u001b[0;34m:\u001b[0m\u001b[0;34m\u001b[0m\u001b[0;34m\u001b[0m\u001b[0m\n\u001b[1;32m   1226\u001b[0m       \u001b[0mgradient_name\u001b[0m \u001b[0;34m=\u001b[0m \u001b[0mself\u001b[0m\u001b[0;34m.\u001b[0m\u001b[0m_delayed_rewrite_functions\u001b[0m\u001b[0;34m.\u001b[0m\u001b[0mregister\u001b[0m\u001b[0;34m(\u001b[0m\u001b[0;34m)\u001b[0m\u001b[0;34m\u001b[0m\u001b[0;34m\u001b[0m\u001b[0m\n",
      "\u001b[0;32m/opt/anaconda3/lib/python3.7/site-packages/tensorflow_core/python/eager/function.py\u001b[0m in \u001b[0;36mcall\u001b[0;34m(self, ctx, args, cancellation_manager)\u001b[0m\n\u001b[1;32m    509\u001b[0m               \u001b[0minputs\u001b[0m\u001b[0;34m=\u001b[0m\u001b[0margs\u001b[0m\u001b[0;34m,\u001b[0m\u001b[0;34m\u001b[0m\u001b[0;34m\u001b[0m\u001b[0m\n\u001b[1;32m    510\u001b[0m               \u001b[0mattrs\u001b[0m\u001b[0;34m=\u001b[0m\u001b[0;34m(\u001b[0m\u001b[0;34m\"executor_type\"\u001b[0m\u001b[0;34m,\u001b[0m \u001b[0mexecutor_type\u001b[0m\u001b[0;34m,\u001b[0m \u001b[0;34m\"config_proto\"\u001b[0m\u001b[0;34m,\u001b[0m \u001b[0mconfig\u001b[0m\u001b[0;34m)\u001b[0m\u001b[0;34m,\u001b[0m\u001b[0;34m\u001b[0m\u001b[0;34m\u001b[0m\u001b[0m\n\u001b[0;32m--> 511\u001b[0;31m               ctx=ctx)\n\u001b[0m\u001b[1;32m    512\u001b[0m         \u001b[0;32melse\u001b[0m\u001b[0;34m:\u001b[0m\u001b[0;34m\u001b[0m\u001b[0;34m\u001b[0m\u001b[0m\n\u001b[1;32m    513\u001b[0m           outputs = execute.execute_with_cancellation(\n",
      "\u001b[0;32m/opt/anaconda3/lib/python3.7/site-packages/tensorflow_core/python/eager/execute.py\u001b[0m in \u001b[0;36mquick_execute\u001b[0;34m(op_name, num_outputs, inputs, attrs, ctx, name)\u001b[0m\n\u001b[1;32m     59\u001b[0m     tensors = pywrap_tensorflow.TFE_Py_Execute(ctx._handle, device_name,\n\u001b[1;32m     60\u001b[0m                                                \u001b[0mop_name\u001b[0m\u001b[0;34m,\u001b[0m \u001b[0minputs\u001b[0m\u001b[0;34m,\u001b[0m \u001b[0mattrs\u001b[0m\u001b[0;34m,\u001b[0m\u001b[0;34m\u001b[0m\u001b[0;34m\u001b[0m\u001b[0m\n\u001b[0;32m---> 61\u001b[0;31m                                                num_outputs)\n\u001b[0m\u001b[1;32m     62\u001b[0m   \u001b[0;32mexcept\u001b[0m \u001b[0mcore\u001b[0m\u001b[0;34m.\u001b[0m\u001b[0m_NotOkStatusException\u001b[0m \u001b[0;32mas\u001b[0m \u001b[0me\u001b[0m\u001b[0;34m:\u001b[0m\u001b[0;34m\u001b[0m\u001b[0;34m\u001b[0m\u001b[0m\n\u001b[1;32m     63\u001b[0m     \u001b[0;32mif\u001b[0m \u001b[0mname\u001b[0m \u001b[0;32mis\u001b[0m \u001b[0;32mnot\u001b[0m \u001b[0;32mNone\u001b[0m\u001b[0;34m:\u001b[0m\u001b[0;34m\u001b[0m\u001b[0;34m\u001b[0m\u001b[0m\n",
      "\u001b[0;31mKeyboardInterrupt\u001b[0m: "
     ]
    }
   ],
   "source": [
    "results = model.fit(train_gen, epochs=50, verbose=1)"
   ]
  },
  {
   "cell_type": "code",
   "execution_count": null,
   "metadata": {
    "gradient": {
     "editing": false,
     "execution_count": 234,
     "id": "72a87f5c-aae4-44d0-a9e5-b5bdc885c1c9",
     "kernelId": "9e65caa5-9ec9-4353-8b91-12ba92c5cd1b"
    }
   },
   "outputs": [],
   "source": []
  },
  {
   "cell_type": "code",
   "execution_count": null,
   "metadata": {
    "gradient": {
     "editing": false,
     "execution_count": 44,
     "id": "9798f804-6bfc-46d1-9c94-c22a9e45f11f",
     "kernelId": "9e65caa5-9ec9-4353-8b91-12ba92c5cd1b"
    }
   },
   "outputs": [],
   "source": []
  },
  {
   "cell_type": "code",
   "execution_count": null,
   "metadata": {},
   "outputs": [],
   "source": []
  },
  {
   "cell_type": "code",
   "execution_count": null,
   "metadata": {},
   "outputs": [],
   "source": []
  },
  {
   "cell_type": "code",
   "execution_count": 90,
   "metadata": {
    "gradient": {
     "editing": false,
     "id": "f26fc89f-2198-40f2-a1f2-4ec6601ba5a8",
     "kernelId": "9e65caa5-9ec9-4353-8b91-12ba92c5cd1b"
    }
   },
   "outputs": [
    {
     "data": {
      "text/plain": [
       "array([[0, 0, 0, ..., 1, 1, 1],\n",
       "       [0, 0, 0, ..., 1, 1, 1],\n",
       "       [0, 0, 0, ..., 1, 1, 0],\n",
       "       ...,\n",
       "       [1, 1, 1, ..., 1, 1, 0],\n",
       "       [1, 1, 1, ..., 1, 1, 1],\n",
       "       [1, 1, 1, ..., 1, 1, 1]], dtype=uint8)"
      ]
     },
     "execution_count": 90,
     "metadata": {},
     "output_type": "execute_result"
    }
   ],
   "source": [
    "img = Image.open(test_path)\n",
    "(np.array(img)/255).astype(np.uint8)"
   ]
  },
  {
   "cell_type": "code",
   "execution_count": null,
   "metadata": {},
   "outputs": [],
   "source": []
  },
  {
   "cell_type": "code",
   "execution_count": null,
   "metadata": {},
   "outputs": [],
   "source": []
  },
  {
   "cell_type": "code",
   "execution_count": null,
   "metadata": {},
   "outputs": [],
   "source": []
  },
  {
   "cell_type": "code",
   "execution_count": null,
   "metadata": {},
   "outputs": [],
   "source": [
    "# Initialize generators\n",
    "train_gen = DataGenerator(train_im, train_an, classes, preproces_func, batch_size=batch_size, width=width,\n",
    "    height=height, augmentation=True)\n",
    "val_gen = DataGenerator(val_im, val_an, classes, preproces_func, batch_size=batch_size, width=width,\n",
    "    height=height, augmentation=False)\n",
    "# Start training\n",
    "history = unet_model.fit_generator(train_gen, validation_data=val_gen, epochs=epochs,\n",
    "    callbacks=[tensorboard, checkpointer])"
   ]
  },
  {
   "cell_type": "code",
   "execution_count": 15,
   "metadata": {},
   "outputs": [],
   "source": []
  },
  {
   "cell_type": "code",
   "execution_count": null,
   "metadata": {},
   "outputs": [],
   "source": [
    "\n",
    "with rio.open('RGB_example.tif','w',driver='Gtiff', width=red.width, height=red.height,count=3,crs=red.crs,transform=red.transform, dtype=red.dtypes[0]) as rgb:\n",
    "    rgb.write(blue.read(1),1)\n",
    "    rgb.write(green.read(1),2)\n",
    "    rgb.write(red.read(1),3)\n",
    "    rgb.close()\n",
    "    \n",
    "    "
   ]
  },
  {
   "cell_type": "markdown",
   "metadata": {},
   "source": [
    "## Visualization dataset"
   ]
  },
  {
   "cell_type": "code",
   "execution_count": 4,
   "metadata": {
    "gradient": {
     "editing": false,
     "execution_count": 96,
     "id": "357b6726-6f56-4e76-acf2-47f74571ebf3",
     "kernelId": "9e65caa5-9ec9-4353-8b91-12ba92c5cd1b"
    }
   },
   "outputs": [
    {
     "name": "stdout",
     "output_type": "stream",
     "text": [
      "random indices: [166, 309]\n"
     ]
    },
    {
     "ename": "NameError",
     "evalue": "name 'path_data' is not defined",
     "output_type": "error",
     "traceback": [
      "\u001b[0;31m---------------------------------------------------------------------------\u001b[0m",
      "\u001b[0;31mNameError\u001b[0m                                 Traceback (most recent call last)",
      "\u001b[0;32m<ipython-input-4-dba1447a02d1>\u001b[0m in \u001b[0;36m<module>\u001b[0;34m\u001b[0m\n\u001b[1;32m      9\u001b[0m \u001b[0mprint\u001b[0m\u001b[0;34m(\u001b[0m\u001b[0;34m'random indices: '\u001b[0m \u001b[0;34m+\u001b[0m \u001b[0mstr\u001b[0m\u001b[0;34m(\u001b[0m\u001b[0mrandom_indices\u001b[0m\u001b[0;34m)\u001b[0m\u001b[0;34m)\u001b[0m\u001b[0;34m\u001b[0m\u001b[0;34m\u001b[0m\u001b[0m\n\u001b[1;32m     10\u001b[0m \u001b[0;34m\u001b[0m\u001b[0m\n\u001b[0;32m---> 11\u001b[0;31m \u001b[0mTRAIN_PATH_R\u001b[0m \u001b[0;34m=\u001b[0m \u001b[0mpath_data\u001b[0m \u001b[0;34m+\u001b[0m \u001b[0;34m'B4/train/'\u001b[0m  \u001b[0;31m#change path\u001b[0m\u001b[0;34m\u001b[0m\u001b[0;34m\u001b[0m\u001b[0m\n\u001b[0m\u001b[1;32m     12\u001b[0m \u001b[0mTRAIN_PATH_G\u001b[0m \u001b[0;34m=\u001b[0m \u001b[0mpath_data\u001b[0m \u001b[0;34m+\u001b[0m \u001b[0;34m'B3/train/'\u001b[0m\u001b[0;34m\u001b[0m\u001b[0;34m\u001b[0m\u001b[0m\n\u001b[1;32m     13\u001b[0m \u001b[0mTRAIN_PATH_B\u001b[0m \u001b[0;34m=\u001b[0m \u001b[0mpath_data\u001b[0m \u001b[0;34m+\u001b[0m \u001b[0;34m'B2/train/'\u001b[0m\u001b[0;34m\u001b[0m\u001b[0;34m\u001b[0m\u001b[0m\n",
      "\u001b[0;31mNameError\u001b[0m: name 'path_data' is not defined"
     ]
    }
   ],
   "source": [
    "# dataset\n",
    "# visualize training data, ground truth & rescaling\n",
    "\n",
    "number_of_visualisations = 2\n",
    "IMG_HEIGHT = 256\n",
    "IMG_WIDTH = 256\n",
    "\n",
    "random_indices = random.sample(range(0,350), number_of_visualisations)\n",
    "print('random indices: ' + str(random_indices))\n",
    " \n",
    "TRAIN_PATH_R = path_data + 'B4/train/'  #change path \n",
    "TRAIN_PATH_G = path_data + 'B3/train/'\n",
    "TRAIN_PATH_B = path_data + 'B2/train/'\n",
    "\n",
    "GT_PATH = path_data + 'BQA/train/'\n",
    " \n",
    "for ind in random_indices:\n",
    "    red    = Image.open(TRAIN_PATH_R + str(ind) + '.png').convert('L')\n",
    "    green  = Image.open(TRAIN_PATH_G + str(ind) + '.png').convert('L')\n",
    "    blue   = Image.open(TRAIN_PATH_B + str(ind) + '.png').convert('L')\n",
    "\n",
    "    rgb = Image.merge(\"RGB\",(red,green,blue))\n",
    "    print('original image ' + str(ind) + ' of size ' + str(rgb.size))\n",
    "    plt.imshow(rgb)\n",
    "    plt.show()\n",
    "    img_r = np.asarray(rgb) \n",
    "    img_r = resize(img_r, (IMG_HEIGHT, IMG_WIDTH, 3), mode='constant', preserve_range=True).astype('uint8')\n",
    "    img_r_img = Image.fromarray(img_r, 'RGB') # own idea to realize an image plot\n",
    "    print('resized image ' + str(ind) + ' of size ' + str(img_r_img.size))\n",
    "    plt.imshow(img_r_img)\n",
    "    plt.show()      \n",
    "\n",
    "    gt = Image.open(GT_PATH + str(ind) + '.png')\n",
    "    print('original gt ' + str(ind) + ' of size ' + str(gt.size))\n",
    "    plt.imshow(gt)\n",
    "    plt.show()\n",
    "    gt_r = np.array(gt)[:,:,1] \n",
    "    gt_r = resize(gt_r, (IMG_HEIGHT, IMG_WIDTH), mode='constant', preserve_range=True).astype('uint8')\n",
    "    gt_r_img = Image.fromarray(gt_r, 'L') # own idea to realize an image plot\n",
    "    print('resized gt ' + str(ind) + ' of size ' + str(gt_r_img.size))\n",
    "    plt.imshow(gt_r_img)\n",
    "    plt.show()\n",
    "\n",
    "\n"
   ]
  },
  {
   "cell_type": "code",
   "execution_count": null,
   "metadata": {
    "gradient": {
     "editing": false,
     "execution_count": 9,
     "id": "90d8683b-3aaa-4a39-a5e7-32f03464091e",
     "kernelId": "9e65caa5-9ec9-4353-8b91-12ba92c5cd1b"
    }
   },
   "outputs": [],
   "source": []
  },
  {
   "cell_type": "code",
   "execution_count": null,
   "metadata": {
    "gradient": {
     "editing": false,
     "execution_count": 10,
     "id": "fb38a30e-5ba5-43fa-bab3-96db63077dac",
     "kernelId": "9e65caa5-9ec9-4353-8b91-12ba92c5cd1b"
    }
   },
   "outputs": [],
   "source": []
  },
  {
   "cell_type": "code",
   "execution_count": 151,
   "metadata": {
    "gradient": {
     "editing": false,
     "execution_count": 11,
     "id": "803dbc1c-fcfb-4e11-8ee2-1193d766923b",
     "kernelId": "9e65caa5-9ec9-4353-8b91-12ba92c5cd1b"
    }
   },
   "outputs": [],
   "source": [
    "import rioxarray as rxr\n",
    "import xarray as xr\n",
    "import earthpy as et\n",
    "import earthpy.spatial as es\n",
    "import earthpy.plot as ep"
   ]
  },
  {
   "cell_type": "code",
   "execution_count": 152,
   "metadata": {
    "gradient": {
     "editing": false,
     "execution_count": 12,
     "id": "83ab80df-12c9-44fd-8b6f-3abeb9742545",
     "kernelId": "9e65caa5-9ec9-4353-8b91-12ba92c5cd1b"
    }
   },
   "outputs": [
    {
     "ename": "NameError",
     "evalue": "name 'path_data' is not defined",
     "output_type": "error",
     "traceback": [
      "\u001b[0;31m---------------------------------------------------------------------------\u001b[0m",
      "\u001b[0;31mNameError\u001b[0m                                 Traceback (most recent call last)",
      "\u001b[0;32m<ipython-input-152-cbaa00018aa5>\u001b[0m in \u001b[0;36m<module>\u001b[0;34m\u001b[0m\n\u001b[1;32m      6\u001b[0m \u001b[0;31m#print('random indices: ' + str(random_indices))\u001b[0m\u001b[0;34m\u001b[0m\u001b[0;34m\u001b[0m\u001b[0;34m\u001b[0m\u001b[0m\n\u001b[1;32m      7\u001b[0m \u001b[0;34m\u001b[0m\u001b[0m\n\u001b[0;32m----> 8\u001b[0;31m \u001b[0mTRAIN_FOLDER\u001b[0m \u001b[0;34m=\u001b[0m \u001b[0mpath_data\u001b[0m \u001b[0;34m+\u001b[0m \u001b[0;34m'38-Cloud_training/'\u001b[0m\u001b[0;34m\u001b[0m\u001b[0;34m\u001b[0m\u001b[0m\n\u001b[0m\u001b[1;32m      9\u001b[0m \u001b[0mTRAIN_PATH_R\u001b[0m \u001b[0;34m=\u001b[0m \u001b[0mpath_data\u001b[0m \u001b[0;34m+\u001b[0m \u001b[0;34m'38-Cloud_training/train_red'\u001b[0m  \u001b[0;31m#change path\u001b[0m\u001b[0;34m\u001b[0m\u001b[0;34m\u001b[0m\u001b[0m\n\u001b[1;32m     10\u001b[0m \u001b[0mTRAIN_PATH_G\u001b[0m \u001b[0;34m=\u001b[0m \u001b[0mpath_data\u001b[0m \u001b[0;34m+\u001b[0m \u001b[0;34m'38-Cloud_training/train_green'\u001b[0m\u001b[0;34m\u001b[0m\u001b[0;34m\u001b[0m\u001b[0m\n",
      "\u001b[0;31mNameError\u001b[0m: name 'path_data' is not defined"
     ]
    }
   ],
   "source": [
    "#number_of_visualisations = 2\n",
    "IMG_HEIGHT = 384\n",
    "IMG_WIDTH = 384\n",
    "\n",
    "#random_indices = random.sample(range(0,10), number_of_visualisations)\n",
    "#print('random indices: ' + str(random_indices))\n",
    "\n",
    "TRAIN_FOLDER = path_data + '38-Cloud_training/' \n",
    "TRAIN_PATH_R = path_data + '38-Cloud_training/train_red'  #change path \n",
    "TRAIN_PATH_G = path_data + '38-Cloud_training/train_green'\n",
    "TRAIN_PATH_B = path_data + '38-Cloud_training/train_blue'\n",
    "\n",
    "GT_PATH = path_data + '38-Cloud_training/train_gt'\n",
    "\n",
    "def get_input_image_names(list_names, directory_name, if_train=True):\n",
    "    list_img = []\n",
    "    list_msk = []\n",
    "    list_test_ids = []\n",
    "\n",
    "    for filenames in tqdm(list_names['name'], miniters=1000):\n",
    "        nred = 'red_' + filenames\n",
    "        nblue = 'blue_' + filenames\n",
    "        ngreen = 'green_' + filenames\n",
    "\n",
    "        if if_train:\n",
    "            dir_type_name = \"train\"\n",
    "            fl_img = []\n",
    "            nmask = 'gt_' + filenames\n",
    "            fl_msk = directory_name + '/train_gt/' + '{}.TIF'.format(nmask)\n",
    "            list_msk.append(fl_msk)\n",
    "\n",
    "        else:\n",
    "            dir_type_name = \"test\"\n",
    "            fl_img = []\n",
    "            fl_id = '{}.TIF'.format(filenames)\n",
    "            list_test_ids.append(fl_id)\n",
    "\n",
    "        fl_img_red = directory_name + '/' + dir_type_name + '_red/' + '{}.TIF'.format(nred)\n",
    "        fl_img_green = directory_name + '/' + dir_type_name + '_green/' + '{}.TIF'.format(ngreen)\n",
    "        fl_img_blue = directory_name + '/' + dir_type_name + '_blue/' + '{}.TIF'.format(nblue)\n",
    "        fl_img.append(fl_img_red)\n",
    "        fl_img.append(fl_img_green)\n",
    "        fl_img.append(fl_img_blue)\n",
    "\n",
    "        list_img.append(fl_img)\n",
    "\n",
    "    if if_train:\n",
    "        return list_img, list_msk\n",
    "    else:\n",
    "        return list_img, list_test_ids\n",
    "\n",
    "train_patches_csv_name = 'training_patches_38-Cloud.csv'\n",
    "df_train_img = pd.read_csv(os.path.join(TRAIN_FOLDER, train_patches_csv_name))\n",
    "train_img, train_msk = get_input_image_names(df_train_img, TRAIN_FOLDER, if_train=True)"
   ]
  },
  {
   "cell_type": "code",
   "execution_count": null,
   "metadata": {
    "gradient": {
     "editing": false,
     "execution_count": 11,
     "id": "5f139c9d-25b6-493e-8a19-a29852b4d12a",
     "kernelId": "9e65caa5-9ec9-4353-8b91-12ba92c5cd1b"
    }
   },
   "outputs": [],
   "source": [
    "train_patches_csv_name_ne = 'training_patches_38-cloud_nonempty.csv'\n",
    "df_train_img_ne = pd.read_csv(os.path.join(TRAIN_FOLDER, train_patches_csv_name_ne))\n",
    "\n",
    "lst_non_empty = []\n",
    "for patch in df_train_img['name']:\n",
    "    lst_non_empty.append       (df_train_img_ne['name'].where(df_train_img_ne['name'] == patch).isna().sum())\n",
    "\n",
    "print(100*5155 - sum(lst_non_empty))\n",
    "\n",
    "non_empty = [i for i,x in enumerate(lst_non_empty) if x < 5155]\n",
    "\n",
    "print(non_empty)\n",
    "\n",
    "for index in non_empty:\n",
    "    print(df_train_img['name'][index])"
   ]
  },
  {
   "cell_type": "code",
   "execution_count": null,
   "metadata": {
    "gradient": {
     "editing": false,
     "execution_count": 97,
     "id": "edbb7e2d-4132-4297-8756-875e7ac88516",
     "kernelId": "9e65caa5-9ec9-4353-8b91-12ba92c5cd1b"
    }
   },
   "outputs": [],
   "source": [
    "def open_clean_bands(band_path):\n",
    "    \"\"\"A function that opens a Landsat band as an (rio)xarray object\n",
    "\n",
    "    Parameters\n",
    "    ----------\n",
    "    band_path : list\n",
    "        A list of paths to the tif files that you wish to combine.\n",
    "        \n",
    "    Returns\n",
    "    -------\n",
    "    An single xarray object with the Landsat band data.\n",
    "\n",
    "    \"\"\"\n",
    "     \n",
    "    return rxr.open_rasterio(band_path, masked=True).squeeze()\n",
    "\n",
    "for ind in non_empty:\n",
    "    # band_g = rxr.open_rasterio(train_img[ind][1], masked=True).squeeze()\n",
    "    # band_g.shape\n",
    "    # f, ax = plt.subplots()\n",
    "    # band_g.plot.imshow(ax=ax, cmap='Greys_r')\n",
    "    # ax.set_axis_off()\n",
    "    # ax.set_title(\"Plot of Band Green\")\n",
    "    # Open all bands in a loop\n",
    "    all_bands = []\n",
    "    for i, aband in enumerate(train_img[ind]):\n",
    "        all_bands.append(open_clean_bands(aband))\n",
    "        # Assign a band number to the new xarray object\n",
    "        all_bands[i][\"band\"]=i+1\n",
    "    train_img_xr = xr.concat(all_bands, dim ='band')\n",
    "    ep.plot_rgb(train_img_xr.values, rgb = [0, 1, 2], title='RGB Composite Image')\n",
    "    plt.show()"
   ]
  },
  {
   "cell_type": "code",
   "execution_count": null,
   "metadata": {},
   "outputs": [],
   "source": []
  },
  {
   "cell_type": "code",
   "execution_count": null,
   "metadata": {},
   "outputs": [],
   "source": []
  },
  {
   "cell_type": "code",
   "execution_count": null,
   "metadata": {
    "gradient": {
     "editing": false,
     "execution_count": 12,
     "id": "95fce5a4-85dd-4044-a9a1-1ca0043793cd",
     "kernelId": "9e65caa5-9ec9-4353-8b91-12ba92c5cd1b"
    }
   },
   "outputs": [],
   "source": []
  },
  {
   "cell_type": "code",
   "execution_count": null,
   "metadata": {
    "gradient": {
     "editing": false,
     "execution_count": 12,
     "id": "e6864491-9562-4875-ae76-8513c81f2e5a",
     "kernelId": "9e65caa5-9ec9-4353-8b91-12ba92c5cd1b"
    }
   },
   "outputs": [],
   "source": []
  },
  {
   "cell_type": "markdown",
   "metadata": {
    "gradient": {
     "editing": false,
     "id": "12d514e8-4be3-4512-9d78-6a39a8ea60ee",
     "kernelId": "9e65caa5-9ec9-4353-8b91-12ba92c5cd1b"
    }
   },
   "source": [
    "## Generator"
   ]
  },
  {
   "cell_type": "code",
   "execution_count": null,
   "metadata": {
    "gradient": {
     "editing": false,
     "execution_count": 13,
     "id": "7d7698ac-8807-4883-9af1-ed2b1a3ca1fd",
     "kernelId": "9e65caa5-9ec9-4353-8b91-12ba92c5cd1b"
    }
   },
   "outputs": [],
   "source": []
  },
  {
   "cell_type": "code",
   "execution_count": null,
   "metadata": {
    "gradient": {
     "editing": false,
     "execution_count": 14,
     "id": "ae64853f-e2fc-4b0a-b55b-0190b1e85960",
     "kernelId": "9e65caa5-9ec9-4353-8b91-12ba92c5cd1b"
    }
   },
   "outputs": [],
   "source": []
  },
  {
   "cell_type": "code",
   "execution_count": null,
   "metadata": {
    "gradient": {
     "editing": false,
     "execution_count": 14,
     "id": "611cfd75-3bcb-4112-a6a0-2dd6aa6208b3",
     "kernelId": "9e65caa5-9ec9-4353-8b91-12ba92c5cd1b"
    }
   },
   "outputs": [],
   "source": []
  },
  {
   "cell_type": "code",
   "execution_count": null,
   "metadata": {
    "gradient": {
     "editing": false,
     "execution_count": 14,
     "id": "4f71299c-277b-4544-a652-f1c86ee7880f",
     "kernelId": "9e65caa5-9ec9-4353-8b91-12ba92c5cd1b"
    }
   },
   "outputs": [],
   "source": []
  },
  {
   "cell_type": "code",
   "execution_count": null,
   "metadata": {
    "gradient": {
     "editing": false,
     "execution_count": 15,
     "id": "0c86b130-c3f3-4f29-8a3a-7024e310104b",
     "kernelId": "9e65caa5-9ec9-4353-8b91-12ba92c5cd1b"
    }
   },
   "outputs": [],
   "source": []
  },
  {
   "cell_type": "code",
   "execution_count": null,
   "metadata": {
    "gradient": {
     "editing": false,
     "execution_count": 16,
     "id": "3bc38cc5-f51f-4fb7-aac3-63438aec15fe",
     "kernelId": "9e65caa5-9ec9-4353-8b91-12ba92c5cd1b"
    }
   },
   "outputs": [],
   "source": []
  },
  {
   "cell_type": "code",
   "execution_count": null,
   "metadata": {
    "gradient": {
     "editing": false,
     "execution_count": 17,
     "id": "2e1b86ba-07cb-45cb-aa62-55f303bb83ca",
     "kernelId": "9e65caa5-9ec9-4353-8b91-12ba92c5cd1b"
    }
   },
   "outputs": [],
   "source": []
  },
  {
   "cell_type": "code",
   "execution_count": null,
   "metadata": {
    "gradient": {
     "editing": false,
     "execution_count": 17,
     "id": "938826cf-ce22-4934-8e30-91e277227916",
     "kernelId": "9e65caa5-9ec9-4353-8b91-12ba92c5cd1b"
    }
   },
   "outputs": [],
   "source": []
  },
  {
   "cell_type": "markdown",
   "metadata": {
    "gradient": {
     "editing": false,
     "id": "c137c954-7cd7-43e2-8951-6c7976636d2f",
     "kernelId": "9e65caa5-9ec9-4353-8b91-12ba92c5cd1b"
    }
   },
   "source": [
    "## Training model"
   ]
  },
  {
   "cell_type": "code",
   "execution_count": 6,
   "metadata": {
    "gradient": {
     "editing": false,
     "execution_count": 98,
     "id": "17b2a135-0e5d-4f1d-b417-da736ddb5048",
     "kernelId": "9e65caa5-9ec9-4353-8b91-12ba92c5cd1b"
    }
   },
   "outputs": [],
   "source": [
    "IMG_WIDTH = 256\n",
    "IMG_HEIGHT = 256\n",
    "IMG_CHANNELS = 3\n",
    " \n",
    "TRAIN_PATH_R = path_data + 'B4/train/'  #change path \n",
    "TRAIN_PATH_G = path_data + 'B3/train/'\n",
    "TRAIN_PATH_B = path_data + 'B2/train/'\n",
    " \n",
    "TEST_PATH_R = path_data + 'B4/test/'\n",
    "TEST_PATH_G = path_data + 'B3/test/'\n",
    "TEST_PATH_B = path_data + 'B2/test/'\n",
    " \n",
    "X_train = np.zeros((350, IMG_WIDTH, IMG_WIDTH, IMG_CHANNELS), dtype=np.float32)\n",
    "Y_train = np.zeros((350, IMG_WIDTH, IMG_WIDTH), dtype=np.float32)\n",
    "img = np.zeros((IMG_WIDTH, IMG_WIDTH, IMG_CHANNELS), dtype=np.float32)\n",
    " \n",
    "tr=np.zeros(350)\n",
    " \n",
    "for i in range(350):\n",
    "       tr[i]=i;\n"
   ]
  },
  {
   "cell_type": "code",
   "execution_count": null,
   "metadata": {
    "gradient": {
     "editing": false,
     "execution_count": 88,
     "id": "1beb3e14-a3e3-4fc9-ba05-eca40fd0adf8",
     "kernelId": "9e65caa5-9ec9-4353-8b91-12ba92c5cd1b"
    }
   },
   "outputs": [],
   "source": [
    "# # Visualize images\n",
    "\n",
    "# rgb = Image.merge(\"RGB\",(red,green,blue))\n",
    "# print('original image ' + str(ind) + ' of size ' + str(rgb.size))\n",
    "# plt.imshow(rgb)\n",
    "# plt.show()\n",
    "# img_r = np.asarray(rgb) \n",
    "# img_r = resize(img_r, (IMG_HEIGHT, IMG_WIDTH, 3), mode='constant', preserve_range=True).astype('uint8')\n",
    "# img_r_img = Image.fromarray(img_r, 'RGB') # own idea to realize an image plot\n",
    "# print('resized image ' + str(ind) + ' of size ' + str(img_r_img.size))\n",
    "# plt.imshow(img_r_img)\n",
    "# plt.show()      \n",
    "\n",
    "# gt = Image.open(GT_PATH + str(ind) + '.png')\n",
    "# print('original gt ' + str(ind) + ' of size ' + str(gt.size))\n",
    "# plt.imshow(gt)\n",
    "# plt.show()\n",
    "# gt_r = np.array(gt)[:,:,1] \n",
    "# gt_r = resize(gt_r, (IMG_HEIGHT, IMG_WIDTH), mode='constant', preserve_range=True).astype('uint8')\n",
    "# gt_r_img = Image.fromarray(gt_r, 'L') # own idea to realize an image plot"
   ]
  },
  {
   "cell_type": "code",
   "execution_count": null,
   "metadata": {
    "gradient": {
     "editing": false,
     "execution_count": 99,
     "id": "6306e315-ef87-488b-8e47-e06cfafde042",
     "kernelId": "9e65caa5-9ec9-4353-8b91-12ba92c5cd1b"
    }
   },
   "outputs": [
    {
     "name": "stderr",
     "output_type": "stream",
     "text": [
      "100%|██████████| 350/350 [00:58<00:00,  5.94it/s]\n"
     ]
    }
   ],
   "source": [
    "# train images\n",
    "for n, id_ in tqdm(enumerate(tr),total=350):\n",
    "    red    = Image.open(TRAIN_PATH_R + str(int(id_)) + '.png').convert('L')\n",
    "    green  = Image.open(TRAIN_PATH_G + str(int(id_)) + '.png').convert('L')\n",
    "    blue   = Image.open(TRAIN_PATH_B + str(int(id_)) + '.png').convert('L')\n",
    "\n",
    "    rgb = Image.merge(\"RGB\",(red,green,blue))\n",
    "    img_b = np.asarray(rgb) \n",
    "\n",
    "    #img_r = imread(TRAIN_PATH_R + str(int(id_)) + '.png')[:,:,:IMG_CHANNELS]\n",
    "    #img_g = imread(TRAIN_PATH_G + str(int(id_)) + '.png')[:,:,:IMG_CHANNELS]\n",
    "    #img_b = imread(TRAIN_PATH_B + str(int(id_)) + '.png')[:,:,:IMG_CHANNELS]\n",
    "\n",
    "    #img_r = resize(img_r, (IMG_HEIGHT, IMG_WIDTH, 1), mode='constant', preserve_range=True)\n",
    "    #img_g = resize(img_g, (IMG_HEIGHT, IMG_WIDTH, 1), mode='constant', preserve_range=True)\n",
    "    #img_b = resize(img_b, (IMG_HEIGHT, IMG_WIDTH, 1), mode='constant', preserve_range=True)\n",
    "\n",
    "    img_b = resize(img_b, (IMG_HEIGHT, IMG_WIDTH, 3), mode='constant', preserve_range=True)\n",
    "    img_b= (img_b/255.0)\n",
    "    #for i in range(256):\n",
    "    #       img[i] = np.concatenate((img_r[i],img_g[i],img_b[i]), axis=1)\n",
    "\n",
    "    X_train[n] = img_b.astype(np.float32)\n",
    "\n",
    "    #mask = Image.open('/content/drive/My Drive/Colab Notebooks/dataset/BQA/train/' + str(int(102+id_)) + '.png').convert('L')\n",
    "    mask = imread(path_data + 'BQA/train/' + str(int(id_)) + '.png')[:,:,1]\n",
    "    mask1 = resize(mask, (IMG_HEIGHT, IMG_WIDTH), order=0, mode='constant', preserve_range=True, anti_aliasing=False)\n",
    "    #mask1 = np.asarray(mask)\n",
    "    #mask1 = resize(mask1, (IMG_HEIGHT, IMG_WIDTH, 1), mode='constant', preserve_range=True)\n",
    " \n",
    "    Y_train[n] = (mask1==231).astype(int)\n"
   ]
  },
  {
   "cell_type": "code",
   "execution_count": null,
   "metadata": {
    "gradient": {
     "editing": false,
     "execution_count": 19,
     "id": "c231d260-2780-4fb2-86e4-62170d5fbf3b",
     "kernelId": "9e65caa5-9ec9-4353-8b91-12ba92c5cd1b"
    }
   },
   "outputs": [],
   "source": []
  },
  {
   "cell_type": "code",
   "execution_count": null,
   "metadata": {
    "gradient": {
     "editing": false,
     "execution_count": 212,
     "id": "2e7f01e8-44cf-4c34-a155-19af6ebeccf9",
     "kernelId": "9e65caa5-9ec9-4353-8b91-12ba92c5cd1b"
    }
   },
   "outputs": [
    {
     "name": "stderr",
     "output_type": "stream",
     "text": [
      "100%|██████████| 36/36 [00:05<00:00,  6.07it/s]\n"
     ]
    }
   ],
   "source": [
    "#test images\n",
    "nr_images = 36\n",
    "\n",
    "te=np.zeros(nr_images)\n",
    "for i in range(nr_images):\n",
    "    te[i]=i;\n",
    "\n",
    "# for test images \n",
    "X_test = np.zeros((nr_images, IMG_WIDTH, IMG_WIDTH, IMG_CHANNELS), dtype=np.float32)\n",
    "Y_test = np.zeros((nr_images, IMG_WIDTH, IMG_WIDTH), dtype=np.float32)\n",
    "img = np.zeros((IMG_WIDTH, IMG_WIDTH, IMG_CHANNELS), dtype=np.float32)\n",
    "sizes_test = []\n",
    " \n",
    "for n, id_ in tqdm(enumerate(te),total=nr_images):\n",
    "    if int(id_) <= 9:\n",
    "        red    = Image.open(TEST_PATH_R + str(170+int(id_)) + '.png').convert('L')\n",
    "        green  = Image.open(TEST_PATH_G + str(170+int(id_)) + '.png').convert('L')\n",
    "        blue   = Image.open(TEST_PATH_B + str(170+int(id_)) + '.png').convert('L')\n",
    "         \n",
    "        rgb = Image.merge(\"RGB\",(red,green,blue))\n",
    "        img_b = np.asarray(rgb)  \n",
    "        img_b = resize(img_b, (IMG_HEIGHT, IMG_WIDTH, 3), mode='constant', preserve_range=True)\n",
    "        img_b=img_b/255.0\n",
    "\n",
    "        X_test[n] = img_b\n",
    "\n",
    "        mask = imread(path_data+ 'BQA/test/' + str(int(170+id_)) + '.png')[:,:,1]\n",
    "        mask1 = resize(mask, (IMG_HEIGHT, IMG_WIDTH), order=0, mode='constant', preserve_range=True, anti_aliasing=False)\n",
    "        \n",
    "    else:\n",
    "        red    = Image.open(TEST_PATH_R + str(314+int(id_)) + '.png').convert('L')\n",
    "        green  = Image.open(TEST_PATH_G + str(314+int(id_)) + '.png').convert('L')\n",
    "        blue   = Image.open(TEST_PATH_B + str(314+int(id_)) + '.png').convert('L')\n",
    "\n",
    "        rgb = Image.merge(\"RGB\",(red,green,blue))\n",
    "        img_b = np.asarray(rgb)  \n",
    "        img_b = resize(img_b, (IMG_HEIGHT, IMG_WIDTH, 3), mode='constant', preserve_range=True)\n",
    "        img_b=img_b/255.0\n",
    "\n",
    "        X_test[n] = img_b\n",
    "\n",
    "        mask = imread(path_data+ 'BQA/test/' + str(int(314+id_)) + '.png')[:,:,1]\n",
    "        mask1 = resize(mask, (IMG_HEIGHT, IMG_WIDTH), order=0, mode='constant', preserve_range=True, anti_aliasing=False)\n",
    "\n",
    "    Y_test[n] = (mask1==231).astype(int)\n",
    "    \n"
   ]
  },
  {
   "cell_type": "code",
   "execution_count": 8,
   "metadata": {
    "gradient": {
     "editing": false,
     "execution_count": 100,
     "id": "b34f789c-84ff-423c-9b8a-c28777b9c2af",
     "kernelId": "9e65caa5-9ec9-4353-8b91-12ba92c5cd1b"
    }
   },
   "outputs": [
    {
     "ename": "NameError",
     "evalue": "name 'Input' is not defined",
     "output_type": "error",
     "traceback": [
      "\u001b[0;31m---------------------------------------------------------------------------\u001b[0m",
      "\u001b[0;31mNameError\u001b[0m                                 Traceback (most recent call last)",
      "\u001b[0;32m<ipython-input-8-264da7f5c1a7>\u001b[0m in \u001b[0;36m<module>\u001b[0;34m\u001b[0m\n\u001b[0;32m----> 1\u001b[0;31m \u001b[0mmodel\u001b[0m \u001b[0;34m=\u001b[0m \u001b[0mmodel_arch\u001b[0m\u001b[0;34m(\u001b[0m\u001b[0minput_rows\u001b[0m\u001b[0;34m=\u001b[0m\u001b[0;36m256\u001b[0m\u001b[0;34m,\u001b[0m \u001b[0minput_cols\u001b[0m\u001b[0;34m=\u001b[0m\u001b[0;36m256\u001b[0m\u001b[0;34m,\u001b[0m \u001b[0mnum_of_channels\u001b[0m\u001b[0;34m=\u001b[0m\u001b[0;36m3\u001b[0m\u001b[0;34m,\u001b[0m \u001b[0mnum_of_classes\u001b[0m\u001b[0;34m=\u001b[0m\u001b[0;36m1\u001b[0m\u001b[0;34m)\u001b[0m\u001b[0;34m\u001b[0m\u001b[0;34m\u001b[0m\u001b[0m\n\u001b[0m\u001b[1;32m      2\u001b[0m \u001b[0mmodel\u001b[0m\u001b[0;34m.\u001b[0m\u001b[0mcompile\u001b[0m\u001b[0;34m(\u001b[0m\u001b[0moptimizer\u001b[0m \u001b[0;34m=\u001b[0m \u001b[0mAdam\u001b[0m\u001b[0;34m(\u001b[0m\u001b[0mlr\u001b[0m \u001b[0;34m=\u001b[0m \u001b[0;36m1e-4\u001b[0m\u001b[0;34m)\u001b[0m\u001b[0;34m,\u001b[0m \u001b[0mloss\u001b[0m \u001b[0;34m=\u001b[0m \u001b[0mjacc_coef\u001b[0m\u001b[0;34m,\u001b[0m \u001b[0mmetrics\u001b[0m \u001b[0;34m=\u001b[0m \u001b[0;34m[\u001b[0m\u001b[0mjacc_coef\u001b[0m\u001b[0;34m,\u001b[0m\u001b[0;34m'accuracy'\u001b[0m\u001b[0;34m]\u001b[0m\u001b[0;34m)\u001b[0m\u001b[0;34m\u001b[0m\u001b[0;34m\u001b[0m\u001b[0m\n",
      "\u001b[0;32m~/Werk/510/510_cloud_detection/build_model.py\u001b[0m in \u001b[0;36mmodel_arch\u001b[0;34m(input_rows, input_cols, num_of_channels, num_of_classes)\u001b[0m\n\u001b[1;32m    274\u001b[0m \u001b[0;34m\u001b[0m\u001b[0m\n\u001b[1;32m    275\u001b[0m \u001b[0;32mdef\u001b[0m \u001b[0mmodel_arch\u001b[0m\u001b[0;34m(\u001b[0m\u001b[0minput_rows\u001b[0m\u001b[0;34m=\u001b[0m\u001b[0;36m256\u001b[0m\u001b[0;34m,\u001b[0m \u001b[0minput_cols\u001b[0m\u001b[0;34m=\u001b[0m\u001b[0;36m256\u001b[0m\u001b[0;34m,\u001b[0m \u001b[0mnum_of_channels\u001b[0m\u001b[0;34m=\u001b[0m\u001b[0;36m3\u001b[0m\u001b[0;34m,\u001b[0m \u001b[0mnum_of_classes\u001b[0m\u001b[0;34m=\u001b[0m\u001b[0;36m1\u001b[0m\u001b[0;34m)\u001b[0m\u001b[0;34m:\u001b[0m\u001b[0;34m\u001b[0m\u001b[0;34m\u001b[0m\u001b[0m\n\u001b[0;32m--> 276\u001b[0;31m     \u001b[0minputs\u001b[0m \u001b[0;34m=\u001b[0m \u001b[0mInput\u001b[0m\u001b[0;34m(\u001b[0m\u001b[0;34m(\u001b[0m\u001b[0minput_rows\u001b[0m\u001b[0;34m,\u001b[0m \u001b[0minput_cols\u001b[0m\u001b[0;34m,\u001b[0m \u001b[0mnum_of_channels\u001b[0m\u001b[0;34m)\u001b[0m\u001b[0;34m)\u001b[0m\u001b[0;34m\u001b[0m\u001b[0;34m\u001b[0m\u001b[0m\n\u001b[0m\u001b[1;32m    277\u001b[0m     \u001b[0mconv1\u001b[0m \u001b[0;34m=\u001b[0m \u001b[0mConv2D\u001b[0m\u001b[0;34m(\u001b[0m\u001b[0;36m16\u001b[0m\u001b[0;34m,\u001b[0m \u001b[0;34m(\u001b[0m\u001b[0;36m3\u001b[0m\u001b[0;34m,\u001b[0m \u001b[0;36m3\u001b[0m\u001b[0;34m)\u001b[0m\u001b[0;34m,\u001b[0m \u001b[0mactivation\u001b[0m\u001b[0;34m=\u001b[0m\u001b[0;34m'relu'\u001b[0m\u001b[0;34m,\u001b[0m \u001b[0mpadding\u001b[0m\u001b[0;34m=\u001b[0m\u001b[0;34m'same'\u001b[0m\u001b[0;34m)\u001b[0m\u001b[0;34m(\u001b[0m\u001b[0minputs\u001b[0m\u001b[0;34m)\u001b[0m\u001b[0;34m\u001b[0m\u001b[0;34m\u001b[0m\u001b[0m\n\u001b[1;32m    278\u001b[0m \u001b[0;34m\u001b[0m\u001b[0m\n",
      "\u001b[0;31mNameError\u001b[0m: name 'Input' is not defined"
     ]
    }
   ],
   "source": [
    "model = model_arch(input_rows=256, input_cols=256, num_of_channels=3, num_of_classes=1)\n",
    "model.compile(optimizer = Adam(lr = 1e-4), loss = jacc_coef, metrics = [jacc_coef,'accuracy'])\n"
   ]
  },
  {
   "cell_type": "code",
   "execution_count": null,
   "metadata": {
    "gradient": {
     "editing": false,
     "execution_count": 101,
     "id": "24d41c92-3a6e-4930-8094-3c66bfd37798",
     "kernelId": "9e65caa5-9ec9-4353-8b91-12ba92c5cd1b"
    }
   },
   "outputs": [
    {
     "name": "stdout",
     "output_type": "stream",
     "text": [
      "Epoch 1/50\n",
      "166/166 [==============================] - 68s 373ms/step - loss: 0.1521 - jacc_coef: 0.1521 - accuracy: 0.8793 - val_loss: 0.3347 - val_jacc_coef: 0.3347 - val_accuracy: 0.6813\n",
      "Epoch 2/50\n",
      "166/166 [==============================] - 61s 367ms/step - loss: 0.0775 - jacc_coef: 0.0775 - accuracy: 0.9400 - val_loss: 0.3200 - val_jacc_coef: 0.3200 - val_accuracy: 0.6813\n",
      "Epoch 3/50\n",
      "166/166 [==============================] - 61s 367ms/step - loss: 0.0681 - jacc_coef: 0.0681 - accuracy: 0.9481 - val_loss: 0.3177 - val_jacc_coef: 0.3177 - val_accuracy: 0.6814\n",
      "Epoch 4/50\n",
      "166/166 [==============================] - 61s 367ms/step - loss: 0.0554 - jacc_coef: 0.0554 - accuracy: 0.9592 - val_loss: 0.1391 - val_jacc_coef: 0.1391 - val_accuracy: 0.9349\n",
      "Epoch 5/50\n",
      "166/166 [==============================] - 61s 366ms/step - loss: 0.0519 - jacc_coef: 0.0519 - accuracy: 0.9613 - val_loss: 0.2985 - val_jacc_coef: 0.2985 - val_accuracy: 0.7191\n",
      "Epoch 6/50\n",
      "166/166 [==============================] - 61s 366ms/step - loss: 0.0555 - jacc_coef: 0.0555 - accuracy: 0.9582 - val_loss: 0.0778 - val_jacc_coef: 0.0778 - val_accuracy: 0.9628\n",
      "Epoch 7/50\n",
      "166/166 [==============================] - 61s 366ms/step - loss: 0.0499 - jacc_coef: 0.0499 - accuracy: 0.9618 - val_loss: 0.0767 - val_jacc_coef: 0.0767 - val_accuracy: 0.9620\n",
      "Epoch 8/50\n",
      "166/166 [==============================] - 61s 366ms/step - loss: 0.0453 - jacc_coef: 0.0453 - accuracy: 0.9663 - val_loss: 0.0801 - val_jacc_coef: 0.0801 - val_accuracy: 0.9605\n",
      "Epoch 9/50\n",
      "166/166 [==============================] - 61s 366ms/step - loss: 0.0427 - jacc_coef: 0.0427 - accuracy: 0.9683 - val_loss: 0.0901 - val_jacc_coef: 0.0901 - val_accuracy: 0.9547\n",
      "Epoch 10/50\n",
      "166/166 [==============================] - 61s 365ms/step - loss: 0.0423 - jacc_coef: 0.0423 - accuracy: 0.9691 - val_loss: 0.0998 - val_jacc_coef: 0.0998 - val_accuracy: 0.9457\n",
      "Epoch 11/50\n",
      "166/166 [==============================] - 61s 366ms/step - loss: 0.0416 - jacc_coef: 0.0416 - accuracy: 0.9685 - val_loss: 0.0764 - val_jacc_coef: 0.0764 - val_accuracy: 0.9606\n",
      "Epoch 12/50\n",
      "166/166 [==============================] - 61s 367ms/step - loss: 0.0403 - jacc_coef: 0.0403 - accuracy: 0.9690 - val_loss: 0.0728 - val_jacc_coef: 0.0728 - val_accuracy: 0.9649\n",
      "Epoch 13/50\n",
      "166/166 [==============================] - 61s 366ms/step - loss: 0.0411 - jacc_coef: 0.0411 - accuracy: 0.9691 - val_loss: 0.0780 - val_jacc_coef: 0.0780 - val_accuracy: 0.9563\n",
      "Epoch 14/50\n",
      "166/166 [==============================] - 61s 367ms/step - loss: 0.0374 - jacc_coef: 0.0374 - accuracy: 0.9719 - val_loss: 0.0806 - val_jacc_coef: 0.0806 - val_accuracy: 0.9577\n",
      "Epoch 15/50\n",
      "166/166 [==============================] - 61s 367ms/step - loss: 0.0395 - jacc_coef: 0.0395 - accuracy: 0.9704 - val_loss: 0.0855 - val_jacc_coef: 0.0855 - val_accuracy: 0.9534\n",
      "Epoch 16/50\n",
      "166/166 [==============================] - 61s 365ms/step - loss: 0.0355 - jacc_coef: 0.0355 - accuracy: 0.9734 - val_loss: 0.0741 - val_jacc_coef: 0.0741 - val_accuracy: 0.9616\n",
      "Epoch 17/50\n",
      "166/166 [==============================] - 61s 366ms/step - loss: 0.0361 - jacc_coef: 0.0361 - accuracy: 0.9726 - val_loss: 0.0798 - val_jacc_coef: 0.0798 - val_accuracy: 0.9592\n",
      "Epoch 18/50\n",
      "166/166 [==============================] - 61s 366ms/step - loss: 0.0367 - jacc_coef: 0.0367 - accuracy: 0.9728 - val_loss: 0.0729 - val_jacc_coef: 0.0729 - val_accuracy: 0.9610\n",
      "Epoch 19/50\n",
      "166/166 [==============================] - 61s 367ms/step - loss: 0.0342 - jacc_coef: 0.0342 - accuracy: 0.9742 - val_loss: 0.0711 - val_jacc_coef: 0.0711 - val_accuracy: 0.9633\n",
      "Epoch 20/50\n",
      "166/166 [==============================] - 61s 366ms/step - loss: 0.0361 - jacc_coef: 0.0361 - accuracy: 0.9732 - val_loss: 0.0693 - val_jacc_coef: 0.0693 - val_accuracy: 0.9637\n",
      "Epoch 21/50\n",
      "166/166 [==============================] - 61s 366ms/step - loss: 0.0361 - jacc_coef: 0.0361 - accuracy: 0.9728 - val_loss: 0.0823 - val_jacc_coef: 0.0823 - val_accuracy: 0.9571\n",
      "Epoch 22/50\n",
      "166/166 [==============================] - 61s 366ms/step - loss: 0.0327 - jacc_coef: 0.0327 - accuracy: 0.9748 - val_loss: 0.0830 - val_jacc_coef: 0.0830 - val_accuracy: 0.9574\n",
      "Epoch 23/50\n",
      "166/166 [==============================] - 61s 367ms/step - loss: 0.0310 - jacc_coef: 0.0310 - accuracy: 0.9766 - val_loss: 0.0649 - val_jacc_coef: 0.0649 - val_accuracy: 0.9664\n",
      "Epoch 24/50\n",
      "166/166 [==============================] - 61s 365ms/step - loss: 0.0331 - jacc_coef: 0.0331 - accuracy: 0.9749 - val_loss: 0.0862 - val_jacc_coef: 0.0862 - val_accuracy: 0.9457\n",
      "Epoch 25/50\n",
      "166/166 [==============================] - 61s 366ms/step - loss: 0.0325 - jacc_coef: 0.0325 - accuracy: 0.9753 - val_loss: 0.0741 - val_jacc_coef: 0.0741 - val_accuracy: 0.9612\n",
      "Epoch 26/50\n",
      "166/166 [==============================] - 61s 366ms/step - loss: 0.0321 - jacc_coef: 0.0321 - accuracy: 0.9758 - val_loss: 0.0758 - val_jacc_coef: 0.0758 - val_accuracy: 0.9598\n",
      "Epoch 27/50\n",
      "166/166 [==============================] - 61s 366ms/step - loss: 0.0300 - jacc_coef: 0.0300 - accuracy: 0.9772 - val_loss: 0.0747 - val_jacc_coef: 0.0747 - val_accuracy: 0.9605\n",
      "Epoch 28/50\n",
      "166/166 [==============================] - 61s 366ms/step - loss: 0.0318 - jacc_coef: 0.0318 - accuracy: 0.9762 - val_loss: 0.0663 - val_jacc_coef: 0.0663 - val_accuracy: 0.9658\n",
      "Epoch 29/50\n",
      "166/166 [==============================] - 61s 366ms/step - loss: 0.0295 - jacc_coef: 0.0295 - accuracy: 0.9775 - val_loss: 0.0692 - val_jacc_coef: 0.0692 - val_accuracy: 0.9638\n",
      "Epoch 30/50\n",
      "166/166 [==============================] - 61s 366ms/step - loss: 0.0389 - jacc_coef: 0.0389 - accuracy: 0.9704 - val_loss: 0.1060 - val_jacc_coef: 0.1060 - val_accuracy: 0.9431\n",
      "Epoch 31/50\n",
      "166/166 [==============================] - 61s 365ms/step - loss: 0.0329 - jacc_coef: 0.0329 - accuracy: 0.9754 - val_loss: 0.0691 - val_jacc_coef: 0.0691 - val_accuracy: 0.9643\n",
      "Epoch 32/50\n",
      "166/166 [==============================] - 61s 366ms/step - loss: 0.0285 - jacc_coef: 0.0285 - accuracy: 0.9782 - val_loss: 0.0690 - val_jacc_coef: 0.0690 - val_accuracy: 0.9643\n",
      "Epoch 33/50\n",
      "166/166 [==============================] - 61s 366ms/step - loss: 0.0321 - jacc_coef: 0.0321 - accuracy: 0.9762 - val_loss: 0.0818 - val_jacc_coef: 0.0818 - val_accuracy: 0.9586\n",
      "Epoch 34/50\n",
      "166/166 [==============================] - 61s 367ms/step - loss: 0.0287 - jacc_coef: 0.0287 - accuracy: 0.9780 - val_loss: 0.0696 - val_jacc_coef: 0.0696 - val_accuracy: 0.9634\n",
      "Epoch 35/50\n",
      "166/166 [==============================] - 61s 365ms/step - loss: 0.0283 - jacc_coef: 0.0283 - accuracy: 0.9783 - val_loss: 0.0700 - val_jacc_coef: 0.0700 - val_accuracy: 0.9628\n",
      "Epoch 36/50\n",
      "166/166 [==============================] - 61s 366ms/step - loss: 0.0290 - jacc_coef: 0.0290 - accuracy: 0.9781 - val_loss: 0.0867 - val_jacc_coef: 0.0867 - val_accuracy: 0.9571\n",
      "Epoch 37/50\n",
      "166/166 [==============================] - 61s 366ms/step - loss: 0.0316 - jacc_coef: 0.0316 - accuracy: 0.9771 - val_loss: 0.0768 - val_jacc_coef: 0.0768 - val_accuracy: 0.9549\n",
      "Epoch 38/50\n",
      "166/166 [==============================] - 61s 367ms/step - loss: 0.0291 - jacc_coef: 0.0291 - accuracy: 0.9784 - val_loss: 0.0712 - val_jacc_coef: 0.0712 - val_accuracy: 0.9622\n",
      "Epoch 39/50\n",
      "166/166 [==============================] - 61s 365ms/step - loss: 0.0325 - jacc_coef: 0.0325 - accuracy: 0.9756 - val_loss: 0.0722 - val_jacc_coef: 0.0722 - val_accuracy: 0.9627\n",
      "Epoch 40/50\n",
      "166/166 [==============================] - 61s 366ms/step - loss: 0.0306 - jacc_coef: 0.0306 - accuracy: 0.9784 - val_loss: 0.0659 - val_jacc_coef: 0.0659 - val_accuracy: 0.9667\n",
      "Epoch 41/50\n",
      "166/166 [==============================] - 61s 367ms/step - loss: 0.0276 - jacc_coef: 0.0276 - accuracy: 0.9790 - val_loss: 0.0689 - val_jacc_coef: 0.0689 - val_accuracy: 0.9641\n",
      "Epoch 42/50\n",
      "166/166 [==============================] - 61s 366ms/step - loss: 0.0280 - jacc_coef: 0.0280 - accuracy: 0.9791 - val_loss: 0.0650 - val_jacc_coef: 0.0650 - val_accuracy: 0.9656\n",
      "Epoch 43/50\n",
      "166/166 [==============================] - 61s 366ms/step - loss: 0.0296 - jacc_coef: 0.0296 - accuracy: 0.9784 - val_loss: 0.0694 - val_jacc_coef: 0.0694 - val_accuracy: 0.9628\n",
      "Epoch 44/50\n",
      "166/166 [==============================] - 61s 366ms/step - loss: 0.0260 - jacc_coef: 0.0260 - accuracy: 0.9800 - val_loss: 0.0707 - val_jacc_coef: 0.0707 - val_accuracy: 0.9603\n",
      "Epoch 45/50\n",
      "166/166 [==============================] - 61s 367ms/step - loss: 0.0265 - jacc_coef: 0.0265 - accuracy: 0.9800 - val_loss: 0.0636 - val_jacc_coef: 0.0636 - val_accuracy: 0.9663\n",
      "Epoch 46/50\n",
      "166/166 [==============================] - 61s 366ms/step - loss: 0.0259 - jacc_coef: 0.0259 - accuracy: 0.9801 - val_loss: 0.0699 - val_jacc_coef: 0.0699 - val_accuracy: 0.9630\n",
      "Epoch 47/50\n",
      "166/166 [==============================] - 61s 365ms/step - loss: 0.0257 - jacc_coef: 0.0257 - accuracy: 0.9804 - val_loss: 0.0647 - val_jacc_coef: 0.0647 - val_accuracy: 0.9650\n",
      "Epoch 48/50\n",
      "166/166 [==============================] - 61s 366ms/step - loss: 0.0258 - jacc_coef: 0.0258 - accuracy: 0.9804 - val_loss: 0.0653 - val_jacc_coef: 0.0653 - val_accuracy: 0.9658\n",
      "Epoch 49/50\n",
      "166/166 [==============================] - 61s 368ms/step - loss: 0.0244 - jacc_coef: 0.0244 - accuracy: 0.9814 - val_loss: 0.0710 - val_jacc_coef: 0.0710 - val_accuracy: 0.9631\n",
      "Epoch 50/50\n",
      "166/166 [==============================] - 61s 366ms/step - loss: 0.0253 - jacc_coef: 0.0253 - accuracy: 0.9806 - val_loss: 0.0701 - val_jacc_coef: 0.0701 - val_accuracy: 0.9646\n"
     ]
    }
   ],
   "source": [
    "results = model.fit(X_train, Y_train, validation_split=0.05, batch_size=2, epochs=50, verbose=1)"
   ]
  },
  {
   "cell_type": "code",
   "execution_count": null,
   "metadata": {
    "gradient": {
     "editing": false,
     "execution_count": 23,
     "id": "4b07bee4-9c99-40a5-b83e-09c7ec2b4d30",
     "kernelId": "9e65caa5-9ec9-4353-8b91-12ba92c5cd1b"
    }
   },
   "outputs": [
    {
     "ename": "NameError",
     "evalue": "name 'model' is not defined",
     "output_type": "error",
     "traceback": [
      "\u001b[0;31m---------------------------------------------------------------------------\u001b[0m",
      "\u001b[0;31mNameError\u001b[0m                                 Traceback (most recent call last)",
      "\u001b[0;32m/tmp/ipykernel_289/1991061938.py\u001b[0m in \u001b[0;36m<module>\u001b[0;34m\u001b[0m\n\u001b[1;32m      1\u001b[0m \u001b[0;31m# Save the entire model\u001b[0m\u001b[0;34m\u001b[0m\u001b[0;34m\u001b[0m\u001b[0;34m\u001b[0m\u001b[0m\n\u001b[0;32m----> 2\u001b[0;31m \u001b[0mmodel\u001b[0m\u001b[0;34m.\u001b[0m\u001b[0msave\u001b[0m\u001b[0;34m(\u001b[0m\u001b[0mpath_model\u001b[0m\u001b[0;34m)\u001b[0m\u001b[0;34m\u001b[0m\u001b[0;34m\u001b[0m\u001b[0m\n\u001b[0m",
      "\u001b[0;31mNameError\u001b[0m: name 'model' is not defined"
     ]
    }
   ],
   "source": [
    "# Save the entire model \n",
    "model.save(path_model) "
   ]
  },
  {
   "cell_type": "code",
   "execution_count": null,
   "metadata": {
    "gradient": {
     "editing": false,
     "execution_count": 24,
     "id": "5f06794b-f027-44fa-a1c5-a0d8555a9897",
     "kernelId": "9e65caa5-9ec9-4353-8b91-12ba92c5cd1b"
    }
   },
   "outputs": [],
   "source": []
  },
  {
   "cell_type": "code",
   "execution_count": null,
   "metadata": {
    "gradient": {
     "editing": false,
     "execution_count": 24,
     "id": "39fb3aea-7932-485b-ade7-2bb9229236c9",
     "kernelId": "9e65caa5-9ec9-4353-8b91-12ba92c5cd1b"
    }
   },
   "outputs": [
    {
     "ename": "NameError",
     "evalue": "name 'results' is not defined",
     "output_type": "error",
     "traceback": [
      "\u001b[0;31m---------------------------------------------------------------------------\u001b[0m",
      "\u001b[0;31mNameError\u001b[0m                                 Traceback (most recent call last)",
      "\u001b[0;32m/tmp/ipykernel_289/2956731496.py\u001b[0m in \u001b[0;36m<module>\u001b[0;34m\u001b[0m\n\u001b[0;32m----> 1\u001b[0;31m \u001b[0mresults\u001b[0m\u001b[0;34m.\u001b[0m\u001b[0mhistory\u001b[0m\u001b[0;34m\u001b[0m\u001b[0;34m\u001b[0m\u001b[0m\n\u001b[0m",
      "\u001b[0;31mNameError\u001b[0m: name 'results' is not defined"
     ]
    }
   ],
   "source": [
    "results.history"
   ]
  },
  {
   "cell_type": "code",
   "execution_count": null,
   "metadata": {
    "gradient": {
     "editing": false,
     "execution_count": 24,
     "id": "51e765c5-3194-4e7d-af27-59aec4e579f1",
     "kernelId": "9e65caa5-9ec9-4353-8b91-12ba92c5cd1b"
    }
   },
   "outputs": [],
   "source": []
  },
  {
   "cell_type": "code",
   "execution_count": null,
   "metadata": {
    "gradient": {
     "editing": false,
     "execution_count": 25,
     "id": "e94a0a60-1171-4465-b113-54740841ab88",
     "kernelId": "9e65caa5-9ec9-4353-8b91-12ba92c5cd1b"
    }
   },
   "outputs": [],
   "source": []
  },
  {
   "cell_type": "markdown",
   "metadata": {
    "gradient": {
     "editing": false,
     "id": "b95cc62d-0174-4399-a607-cdf3a2faa9a4",
     "kernelId": "9e65caa5-9ec9-4353-8b91-12ba92c5cd1b"
    }
   },
   "source": [
    "## Evaluating model"
   ]
  },
  {
   "cell_type": "code",
   "execution_count": null,
   "metadata": {
    "gradient": {
     "editing": false,
     "execution_count": 26,
     "id": "22cdb0d8-a4e2-48cd-9457-2e033fe416f5",
     "kernelId": "9e65caa5-9ec9-4353-8b91-12ba92c5cd1b"
    }
   },
   "outputs": [],
   "source": []
  },
  {
   "cell_type": "code",
   "execution_count": null,
   "metadata": {
    "collapsed": true,
    "gradient": {
     "editing": false,
     "execution_count": 27,
     "id": "9a79cb63-c95b-48a1-9d27-9e04e2af8e9e",
     "kernelId": "9e65caa5-9ec9-4353-8b91-12ba92c5cd1b"
    },
    "jupyter": {
     "outputs_hidden": true
    }
   },
   "outputs": [
    {
     "ename": "NameError",
     "evalue": "name 'tf' is not defined",
     "output_type": "error",
     "traceback": [
      "\u001b[0;31m---------------------------------------------------------------------------\u001b[0m",
      "\u001b[0;31mNameError\u001b[0m                                 Traceback (most recent call last)",
      "\u001b[0;32m/tmp/ipykernel_289/3219985888.py\u001b[0m in \u001b[0;36m<module>\u001b[0;34m\u001b[0m\n\u001b[1;32m      1\u001b[0m \u001b[0;31m# Load model\u001b[0m\u001b[0;34m\u001b[0m\u001b[0;34m\u001b[0m\u001b[0;34m\u001b[0m\u001b[0m\n\u001b[1;32m      2\u001b[0m \u001b[0;34m\u001b[0m\u001b[0m\n\u001b[0;32m----> 3\u001b[0;31m \u001b[0mtest_model\u001b[0m \u001b[0;34m=\u001b[0m \u001b[0mtf\u001b[0m\u001b[0;34m.\u001b[0m\u001b[0mkeras\u001b[0m\u001b[0;34m.\u001b[0m\u001b[0mmodels\u001b[0m\u001b[0;34m.\u001b[0m\u001b[0mload_model\u001b[0m\u001b[0;34m(\u001b[0m\u001b[0mpath_model\u001b[0m\u001b[0;34m,\u001b[0m \u001b[0mcompile\u001b[0m\u001b[0;34m=\u001b[0m\u001b[0;32mFalse\u001b[0m\u001b[0;34m)\u001b[0m\u001b[0;34m\u001b[0m\u001b[0;34m\u001b[0m\u001b[0m\n\u001b[0m\u001b[1;32m      4\u001b[0m \u001b[0mtest_model\u001b[0m\u001b[0;34m.\u001b[0m\u001b[0mcompile\u001b[0m\u001b[0;34m(\u001b[0m\u001b[0moptimizer\u001b[0m \u001b[0;34m=\u001b[0m \u001b[0mAdam\u001b[0m\u001b[0;34m(\u001b[0m\u001b[0mlr\u001b[0m \u001b[0;34m=\u001b[0m \u001b[0;36m1e-4\u001b[0m\u001b[0;34m)\u001b[0m\u001b[0;34m,\u001b[0m \u001b[0mloss\u001b[0m \u001b[0;34m=\u001b[0m \u001b[0mjacc_coef\u001b[0m\u001b[0;34m,\u001b[0m \u001b[0mmetrics\u001b[0m \u001b[0;34m=\u001b[0m \u001b[0;34m[\u001b[0m\u001b[0mjacc_coef\u001b[0m\u001b[0;34m,\u001b[0m\u001b[0;34m'accuracy'\u001b[0m\u001b[0;34m]\u001b[0m\u001b[0;34m)\u001b[0m\u001b[0;34m\u001b[0m\u001b[0;34m\u001b[0m\u001b[0m\n\u001b[1;32m      5\u001b[0m \u001b[0;34m\u001b[0m\u001b[0m\n",
      "\u001b[0;31mNameError\u001b[0m: name 'tf' is not defined"
     ]
    }
   ],
   "source": [
    "# # Load model\n",
    "\n",
    "# test_model = tf.keras.models.load_model(path_model, compile=False)\n",
    "# test_model.compile(optimizer = Adam(lr = 1e-4), loss = jacc_coef, metrics = [jacc_coef,'accuracy'])\n",
    "\n",
    "\n",
    "# # test_model.summary()\n",
    "\n",
    "# preds_test = test_model.predict(X_test, verbose=1)\n",
    "# test_pred = (preds_test > 0.5).astype(int)\n"
   ]
  },
  {
   "cell_type": "code",
   "execution_count": null,
   "metadata": {
    "gradient": {
     "editing": false,
     "execution_count": 113,
     "id": "5c9133c4-4762-44a5-97e3-36a27cada0e1",
     "kernelId": "9e65caa5-9ec9-4353-8b91-12ba92c5cd1b"
    }
   },
   "outputs": [
    {
     "name": "stdout",
     "output_type": "stream",
     "text": [
      "18/18 [==============================] - 1s 64ms/step - loss: 0.9824 - jacc_coef: 0.9824 - accuracy: 0.0305\n"
     ]
    },
    {
     "data": {
      "text/plain": [
       "[0.9824028015136719, 0.9824028015136719, 0.030534956604242325]"
      ]
     },
     "execution_count": 113,
     "metadata": {},
     "output_type": "execute_result"
    }
   ],
   "source": [
    "model.evaluate(X_test, Y_test, batch_size=2)"
   ]
  },
  {
   "cell_type": "code",
   "execution_count": null,
   "metadata": {
    "collapsed": true,
    "gradient": {
     "editing": false,
     "execution_count": 220,
     "id": "a99c29ce-164d-4f22-aab8-4a3ba0f6421b",
     "kernelId": "9e65caa5-9ec9-4353-8b91-12ba92c5cd1b"
    },
    "jupyter": {
     "outputs_hidden": true
    }
   },
   "outputs": [
    {
     "name": "stdout",
     "output_type": "stream",
     "text": [
      "18/18 [==============================] - 1s 59ms/step\n"
     ]
    }
   ],
   "source": [
    "preds_test = model.predict(X_test, batch_size=2, verbose=1)\n",
    "test_pred = (preds_test < 0.5).astype(int)"
   ]
  },
  {
   "cell_type": "code",
   "execution_count": null,
   "metadata": {
    "gradient": {
     "editing": false,
     "execution_count": 29,
     "id": "0ed88e5b-49ec-4763-95fb-b986540c9cce",
     "kernelId": "9e65caa5-9ec9-4353-8b91-12ba92c5cd1b"
    }
   },
   "outputs": [],
   "source": []
  },
  {
   "cell_type": "code",
   "execution_count": null,
   "metadata": {
    "gradient": {
     "editing": false,
     "execution_count": 221,
     "id": "5fe5459e-0e89-4416-8a2c-bb6cc902cc96",
     "kernelId": "9e65caa5-9ec9-4353-8b91-12ba92c5cd1b"
    }
   },
   "outputs": [
    {
     "name": "stdout",
     "output_type": "stream",
     "text": [
      "RGB image\n"
     ]
    },
    {
     "data": {
      "image/png": "[encoded data removed]",
      "text/plain": [
       "<Figure size 432x288 with 1 Axes>"
      ]
     },
     "metadata": {
      "needs_background": "light"
     },
     "output_type": "display_data"
    },
    {
     "name": "stdout",
     "output_type": "stream",
     "text": [
      "Ground truth\n"
     ]
    },
    {
     "data": {
      "image/png": "[encoded data removed]",
      "text/plain": [
       "<Figure size 432x288 with 1 Axes>"
      ]
     },
     "metadata": {
      "needs_background": "light"
     },
     "output_type": "display_data"
    },
    {
     "name": "stdout",
     "output_type": "stream",
     "text": [
      "Prediction\n"
     ]
    },
    {
     "data": {
      "image/png": "[encoded data removed]",
      "text/plain": [
       "<Figure size 432x288 with 1 Axes>"
      ]
     },
     "metadata": {
      "needs_background": "light"
     },
     "output_type": "display_data"
    }
   ],
   "source": [
    "image_id = 4\n",
    "\n",
    "print('RGB image')\n",
    "gt_img = X_test[image_id]\n",
    "plt.imshow(gt_img)\n",
    "plt.show()\n",
    "\n",
    "print('Ground truth')\n",
    "gt_img = Y_test[image_id].astype(int) \n",
    "plt.imshow(gt_img)\n",
    "plt.show()\n",
    "\n",
    "print('Prediction')\n",
    "pred_img = test_pred[image_id][:,:,0]\n",
    "plt.imshow(pred_img)\n",
    "plt.show()"
   ]
  },
  {
   "cell_type": "code",
   "execution_count": null,
   "metadata": {
    "gradient": {
     "execution_count": 195,
     "id": "2b758756-9614-4e5c-9725-0d8d2cf80602",
     "kernelId": "9e65caa5-9ec9-4353-8b91-12ba92c5cd1b"
    }
   },
   "outputs": [],
   "source": [
    "mask = imread(path_data + 'BQA/train/' + str(int(image_id)) + '.png')[:,:,1]\n",
    "mask1 = resize(mask, (IMG_HEIGHT, IMG_WIDTH), order=0, mode='constant', preserve_range=True, anti_aliasing=False)\n",
    " "
   ]
  },
  {
   "cell_type": "code",
   "execution_count": null,
   "metadata": {
    "gradient": {
     "execution_count": 198,
     "id": "cff20ad0-44ca-4019-b86b-392c3af87075",
     "kernelId": "9e65caa5-9ec9-4353-8b91-12ba92c5cd1b"
    }
   },
   "outputs": [
    {
     "data": {
      "text/plain": [
       "array([[0, 0, 0, ..., 1, 1, 1],\n",
       "       [0, 0, 0, ..., 1, 1, 1],\n",
       "       [0, 0, 0, ..., 1, 1, 1],\n",
       "       ...,\n",
       "       [0, 0, 0, ..., 1, 1, 1],\n",
       "       [0, 0, 0, ..., 0, 1, 0],\n",
       "       [0, 0, 0, ..., 1, 0, 0]])"
      ]
     },
     "execution_count": 198,
     "metadata": {},
     "output_type": "execute_result"
    }
   ],
   "source": [
    "(mask1 == 231).astype(int)"
   ]
  },
  {
   "cell_type": "code",
   "execution_count": null,
   "metadata": {
    "gradient": {
     "id": "759b2ff7-7e8f-4d71-a0e5-06bcd6ddd5eb",
     "kernelId": "9e65caa5-9ec9-4353-8b91-12ba92c5cd1b"
    }
   },
   "outputs": [],
   "source": []
  },
  {
   "cell_type": "code",
   "execution_count": null,
   "metadata": {
    "gradient": {
     "id": "6ce604db-579e-4c88-8fff-fac4aeec5452",
     "kernelId": "9e65caa5-9ec9-4353-8b91-12ba92c5cd1b"
    }
   },
   "outputs": [],
   "source": []
  },
  {
   "cell_type": "code",
   "execution_count": null,
   "metadata": {
    "gradient": {
     "editing": false,
     "execution_count": 222,
     "id": "09366454-21ef-40b8-bb03-51c4c4f8a3c3",
     "kernelId": "9e65caa5-9ec9-4353-8b91-12ba92c5cd1b"
    }
   },
   "outputs": [
    {
     "name": "stdout",
     "output_type": "stream",
     "text": [
      "Mean IoU: 0.8635373612575186\n",
      "Frequency weighted IoU: 0.9438622378879216\n"
     ]
    }
   ],
   "source": [
    "def mean_iou(gt, mask):\n",
    "    gt = gt.flatten()\n",
    "    mask = mask.flatten()\n",
    "    tn,fp,fn,tp = confusion_matrix(gt,mask).ravel()\n",
    "    iou = tp/(tp+fn+fp)\n",
    "    iou_n = tn/(tn+fn+fp)\n",
    "    rec = 0.5 * iou + 0.5 * iou_n\n",
    "    return(rec)\n",
    "\n",
    "def fw_iou(gt, mask):\n",
    "    gt = gt.flatten()\n",
    "    mask = mask.flatten()\n",
    "    tn,fp,fn,tp = confusion_matrix(gt,mask).ravel()\n",
    "    iou = tp/(tp+fn+fp)\n",
    "    iou_n = tn/(tn+fn+fp)\n",
    "    cloud_weight = (tp + fp)/(tn + fp + fn + tp)\n",
    "    rec = cloud_weight * iou + (1 - cloud_weight) * iou_n\n",
    "    return(rec)\n",
    "\n",
    "sum = 0\n",
    "for i in range(len(Y_test)):\n",
    "  #print('Jaccard Index ' + str(i) + ' ' + str(jaccard(Y_test[i],preds_test_t[i])))\n",
    "  sum = sum + mean_iou(Y_test[i],test_pred[i])\n",
    "mIoU = sum/len(Y_test)\n",
    "\n",
    "sum = 0\n",
    "for i in range(len(Y_test)):\n",
    "  #print('Jaccard Index ' + str(i) + ' ' + str(jaccard(Y_test[i],preds_test_t[i])))\n",
    "  sum = sum + fw_iou(Y_test[i],test_pred[i])\n",
    "fwIoU = sum/len(Y_test)\n",
    "\n",
    "print('Mean IoU: ' + str(mIoU))\n",
    "print('Frequency weighted IoU: ' + str(fwIoU))\n"
   ]
  },
  {
   "cell_type": "code",
   "execution_count": null,
   "metadata": {
    "collapsed": true,
    "gradient": {
     "editing": false,
     "execution_count": 225,
     "id": "0a3cb980-8ee7-408d-b4c7-d598d36e4bcf",
     "kernelId": "9e65caa5-9ec9-4353-8b91-12ba92c5cd1b"
    },
    "jupyter": {
     "outputs_hidden": true
    }
   },
   "outputs": [
    {
     "name": "stdout",
     "output_type": "stream",
     "text": [
      "0\n",
      "1\n",
      "2\n",
      "3\n",
      "4\n",
      "5\n",
      "6\n",
      "7\n",
      "8\n",
      "9\n",
      "10\n",
      "11\n",
      "12\n",
      "13\n",
      "14\n",
      "15\n",
      "16\n",
      "17\n",
      "18\n",
      "19\n",
      "20\n",
      "21\n",
      "22\n",
      "23\n",
      "24\n",
      "25\n",
      "26\n",
      "27\n",
      "28\n",
      "29\n",
      "30\n",
      "31\n",
      "32\n",
      "33\n",
      "34\n",
      "35\n",
      "Jaccard Index 0.7940930212986073\n",
      "final f1 0.8856622335510347\n",
      "final precision 0.8942234505206338\n",
      "final recall 0.8772633907081568\n",
      "Overall Accuracy 0.9693679809570312\n"
     ]
    }
   ],
   "source": [
    "from sklearn.metrics import confusion_matrix\n",
    "\n",
    "def precision(gt,mask):\n",
    "    gt = gt.flatten()\n",
    "    mask = mask.flatten()\n",
    "    tn,fp,fn,tp = confusion_matrix(gt,mask).ravel()\n",
    "    prec = tp/(tp+fp)\n",
    "    return(prec)\n",
    "\n",
    "####recall---\n",
    "def recall(gt,mask):\n",
    "    gt = gt.flatten()\n",
    "    mask = mask.flatten()\n",
    "    tn,fp,fn,tp = confusion_matrix(gt,mask).ravel()\n",
    "    rec = tp/(tp+fn)\n",
    "    return(rec)\n",
    "\n",
    "###f1 score--\n",
    "\n",
    "def f1_score(prec,rec):\n",
    "    f1 = 2*(prec*rec)/(prec+rec)\n",
    "    return f1\n",
    "\n",
    "  ### jaccard \n",
    "def jaccard(gt,mask):\n",
    "    gt = gt.flatten()\n",
    "    mask = mask.flatten()\n",
    "    tn,fp,fn,tp = confusion_matrix(gt,mask).ravel()\n",
    "    rec = tp/(tp+fn+fp)\n",
    "    return(rec)\n",
    "\n",
    "  ### jaccard \n",
    "def Overall(gt,mask):\n",
    "    gt = gt.flatten()\n",
    "    mask = mask.flatten()\n",
    "    tn,fp,fn,tp = confusion_matrix(gt,mask).ravel()\n",
    "    rec = (tp+tn)/(tp+fp+fn+tn)\n",
    "    return(rec)\n",
    "\n",
    "###aji score\n",
    "\n",
    "def get_fast_aji(true, pred):\n",
    "    \n",
    "    true = np.copy(true) # ? do we need this\n",
    "    pred = np.copy(pred)\n",
    "    true_id_list = list(np.unique(true))\n",
    "    pred_id_list = list(np.unique(pred))\n",
    "\n",
    "    true_masks = [None,]\n",
    "    for t in true_id_list[1:]:\n",
    "        t_mask = np.array(true == t, np.uint8)\n",
    "        true_masks.append(t_mask)\n",
    "    \n",
    "    pred_masks = [None,]\n",
    "    for p in pred_id_list[1:]:\n",
    "        p_mask = np.array(pred == p, np.uint8)\n",
    "        pred_masks.append(p_mask)\n",
    "    \n",
    "    # prefill with value\n",
    "    pairwise_inter = np.zeros([len(true_id_list) -1, \n",
    "                               len(pred_id_list) -1], dtype=np.float64)\n",
    "    pairwise_union = np.zeros([len(true_id_list) -1, \n",
    "                               len(pred_id_list) -1], dtype=np.float64)\n",
    "\n",
    "    # caching pairwise\n",
    "    for true_id in true_id_list[1:]: # 0-th is background\n",
    "        t_mask = true_masks[int(true_id)]\n",
    "        pred_true_overlap = pred[t_mask > 0]\n",
    "        pred_true_overlap_id = np.unique(pred_true_overlap)\n",
    "        pred_true_overlap_id = list(pred_true_overlap_id)\n",
    "        for pred_id in pred_true_overlap_id:\n",
    "            if pred_id == 0: # ignore\n",
    "                continue # overlaping background\n",
    "            p_mask = pred_masks[int(pred_id)]\n",
    "            total = (t_mask + p_mask).sum()\n",
    "            inter = (t_mask * p_mask).sum()\n",
    "            pairwise_inter[int(true_id)-1, int(pred_id)-1] = inter\n",
    "            pairwise_union[int(true_id)-1, int(pred_id)-1] = total - inter\n",
    "    #\n",
    "    pairwise_iou = pairwise_inter / (pairwise_union + 1.0e-6)\n",
    "    # pair of pred that give highest iou for each true, dont care \n",
    "    # about reusing pred instance multiple times\n",
    "    paired_pred = np.argmax(pairwise_iou, axis=1)\n",
    "    pairwise_iou = np.max(pairwise_iou, axis=1)\n",
    "    # exlude those dont have intersection\n",
    "    paired_true = np.nonzero(pairwise_iou > 0.0)[0]\n",
    "    paired_pred = paired_pred[paired_true]\n",
    "    # print(paired_true.shape, paired_pred.shape)\n",
    "    overall_inter = (pairwise_inter[paired_true, paired_pred]).sum()\n",
    "    overall_union = (pairwise_union[paired_true, paired_pred]).sum()\n",
    "    #\n",
    "    paired_true = (list(paired_true + 1)) # index to instance ID\n",
    "    paired_pred = (list(paired_pred + 1))\n",
    "    # add all unpaired GT and Prediction into the union\n",
    "    unpaired_true = np.array([idx for idx in true_id_list[1:] if idx not in paired_true])\n",
    "    unpaired_pred = np.array([idx for idx in pred_id_list[1:] if idx not in paired_pred])\n",
    "    for true_id in unpaired_true:\n",
    "        overall_union += true_masks[true_id].sum()\n",
    "    for pred_id in unpaired_pred:\n",
    "        overall_union += pred_masks[pred_id].sum()\n",
    "    #\n",
    "    aji_score = overall_inter / overall_union\n",
    "    return aji_score\n",
    "\n",
    "sum_prec = 0\n",
    "sum_rec = 0\n",
    "sum_jac = 0\n",
    "sum_over = 0\n",
    "for i in range(len(Y_test)):\n",
    "    print(i)\n",
    "    sum_prec = sum_prec + precision(Y_test[i],test_pred[i])\n",
    "    sum_rec = sum_rec + recall(Y_test[i],test_pred[i])\n",
    "    sum_jac = sum_jac + jaccard(Y_test[i],test_pred[i])\n",
    "    sum_over = sum_over + Overall(Y_test[i],test_pred[i])\n",
    "prec = sum_prec/len(Y_test)\n",
    "rec = sum_rec/len(Y_test)\n",
    "jaccard1 = sum_jac/len(Y_test)\n",
    "Overall1 = sum_over/len(Y_test)\n",
    "\n",
    "\n",
    "f1 = f1_score(prec,rec)\n",
    "# aji = get_fast_aji(Y_test,test_pred)\n",
    "\n",
    "print(\"Jaccard Index\", jaccard1)\n",
    "print(\"final f1\", f1)\n",
    "print(\"final precision\",prec)\n",
    "print(\"final recall\",rec)\n",
    "print(\"Overall Accuracy\",Overall1)\n",
    "# print(\"final aji\",aji)"
   ]
  },
  {
   "cell_type": "code",
   "execution_count": null,
   "metadata": {},
   "outputs": [],
   "source": []
  },
  {
   "cell_type": "code",
   "execution_count": null,
   "metadata": {},
   "outputs": [],
   "source": []
  },
  {
   "cell_type": "code",
   "execution_count": null,
   "metadata": {},
   "outputs": [],
   "source": []
  },
  {
   "cell_type": "code",
   "execution_count": null,
   "metadata": {
    "gradient": {
     "editing": false,
     "execution_count": 30,
     "id": "7ba4475d-1943-4bda-9a9c-6da79f78d673",
     "kernelId": "9e65caa5-9ec9-4353-8b91-12ba92c5cd1b"
    }
   },
   "outputs": [],
   "source": [
    "# # dataset png's\n",
    "# dataset_path = '/Users/Willem/Werk/510/510_cloud_detection/dataset' #'/notebooks/510_cloud_detection/dataset'\n",
    "\n",
    "# rgb_img_dir_path = dataset_path + '/rgb_images/test/'\n",
    "# anno_dir_path = dataset_path + '/annotations/test/'\n",
    "\n",
    "# utils.ensure_directory_existance(rgb_img_dir_path)\n",
    "# utils.ensure_directory_existance(anno_dir_path)\n",
    "\n",
    "# r_train_path = dataset_path + '/B4/train'\n",
    "# g_train_path = dataset_path + '/B3/train'\n",
    "# b_train_path = dataset_path + '/B2/train'\n",
    "# anno_train_path = dataset_path + '/BQA/train'\n",
    "# r_test_path = dataset_path + '/B4/test'\n",
    "# g_test_path = dataset_path + '/B3/test'\n",
    "# b_test_path = dataset_path + '/B2/test'\n",
    "# anno_test_path = dataset_path + '/BQA/test'\n",
    "\n",
    "# r_train_files = glob.glob(r_train_path+'/*.png')\n",
    "# g_train_files = glob.glob(g_train_path+'/*.png')\n",
    "# b_train_files = glob.glob(b_train_path+'/*.png')\n",
    "\n",
    "# r_test_files = glob.glob(r_test_path+'/*.png')\n",
    "# g_test_files = glob.glob(g_test_path+'/*.png')\n",
    "# b_test_files = glob.glob(b_test_path+'/*.png')\n"
   ]
  },
  {
   "cell_type": "code",
   "execution_count": null,
   "metadata": {},
   "outputs": [],
   "source": [
    "## Read and write dataset train\n",
    "\n",
    "# IMG_WIDTH = 256\n",
    "# IMG_HEIGHT = 256\n",
    "# IMG_CHANNELS = 3\n",
    "# nr_imgs = len(b_train_files)\n",
    "\n",
    "# TRAIN_PATH_R = path_data + 'B4/train/'  #change path \n",
    "# TRAIN_PATH_G = path_data + 'B3/train/'\n",
    "# TRAIN_PATH_B = path_data + 'B2/train/'\n",
    " \n",
    "# X_train = np.zeros((nr_imgs, IMG_WIDTH, IMG_WIDTH, IMG_CHANNELS), dtype='int')\n",
    "# Y_train = np.zeros((nr_imgs, IMG_WIDTH, IMG_WIDTH), dtype='int')\n",
    "# img = np.zeros((IMG_WIDTH, IMG_WIDTH, IMG_CHANNELS), dtype='int')\n",
    " \n",
    "# tr=np.zeros(nr_imgs)\n",
    " \n",
    "# for i in range(nr_imgs):\n",
    "#        tr[i]=i;\n",
    "\n",
    "# for n, id_ in tqdm(enumerate(tr),total=nr_imgs):\n",
    "#     red    = Image.open(TRAIN_PATH_R + str(int(id_)) + '.png').convert('L')\n",
    "#     green  = Image.open(TRAIN_PATH_G + str(int(id_)) + '.png').convert('L')\n",
    "#     blue   = Image.open(TRAIN_PATH_B + str(int(id_)) + '.png').convert('L')\n",
    "\n",
    "#     rgb = Image.merge(\"RGB\",(red,green,blue))\n",
    "#     img_b = np.asarray(rgb) \n",
    "    \n",
    "#     img_b = resize(img_b, (IMG_HEIGHT, IMG_WIDTH, 3), mode='constant', preserve_range=True).astype(np.uint8)\n",
    "        \n",
    "#     if img_b.shape != (256, 256, 3):\n",
    "#         print('warning shape doesnt seem right', id_)\n",
    "\n",
    "#     save_img = Image.fromarray(img_b, 'RGB')\n",
    "#     save_img.save(rgb_img_dir_path + str(int(id_)) + '.png')\n",
    "#     X_train[n] = img_b\n",
    "\n",
    "    \n",
    "#     mask = imread(path_data + 'BQA/train/' + str(int(id_)) + '.png')[:,:,1]\n",
    "#     mask1 = resize(mask, (IMG_HEIGHT, IMG_WIDTH), order=0, mode='constant', preserve_range=True, anti_aliasing=False)\n",
    "#     anno = ((mask1==231)*255).astype(np.uint8)\n",
    "    \n",
    "#     if np.sum(anno) == 0:\n",
    "#         print('no clouds ', id_)\n",
    "    \n",
    "#     save_anno = Image.fromarray(anno)\n",
    "#     save_anno.save(anno_dir_path + str(int(id_)) + '.png')\n",
    "#     Y_train[n] = anno\n",
    "        "
   ]
  },
  {
   "cell_type": "code",
   "execution_count": null,
   "metadata": {},
   "outputs": [],
   "source": [
    "# #Read and write dataset test images\n",
    "# nr_images = 36 #36\n",
    " \n",
    "# TEST_PATH_R = path_data + 'B4/test/'\n",
    "# TEST_PATH_G = path_data + 'B3/test/'\n",
    "# TEST_PATH_B = path_data + 'B2/test/'\n",
    "\n",
    "# te=np.zeros(nr_images)\n",
    "# for i in range(nr_images):\n",
    "#     te[i]=i;\n",
    "\n",
    "# # for test images \n",
    "# X_test = np.zeros((nr_images, IMG_WIDTH, IMG_WIDTH, IMG_CHANNELS), dtype='int')\n",
    "# Y_test = np.zeros((nr_images, IMG_WIDTH, IMG_WIDTH), dtype='int')\n",
    "# img = np.zeros((IMG_WIDTH, IMG_WIDTH, IMG_CHANNELS), dtype='int')\n",
    "# sizes_test = []\n",
    " \n",
    "# for n, id_ in tqdm(enumerate(te),total=nr_images):\n",
    "#     if int(id_) <= 9:\n",
    "#         red    = Image.open(TEST_PATH_R + str(170+int(id_)) + '.png').convert('L')\n",
    "#         green  = Image.open(TEST_PATH_G + str(170+int(id_)) + '.png').convert('L')\n",
    "#         blue   = Image.open(TEST_PATH_B + str(170+int(id_)) + '.png').convert('L')\n",
    "         \n",
    "#         rgb = Image.merge(\"RGB\",(red,green,blue))\n",
    "#         img_b = np.asarray(rgb)  \n",
    "#         img_b = resize(img_b, (IMG_HEIGHT, IMG_WIDTH, 3), mode='constant', preserve_range=True).astype(np.uint8)\n",
    "# #         img_b=img_b/255.0\n",
    "#         if img_b.shape != (256, 256, 3):\n",
    "#             print('warning shape doesnt seem right', id_)\n",
    "        \n",
    "#         save_img = Image.fromarray(img_b, 'RGB')\n",
    "#         save_img.save(rgb_img_dir_path + str(int(id_)) + '.png')\n",
    "#         X_test[n] = img_b\n",
    "\n",
    "#         mask = imread(path_data+ 'BQA/test/' + str(int(170+id_)) + '.png')[:,:,1]\n",
    "#         mask1 = resize(mask, (IMG_HEIGHT, IMG_WIDTH), order=0, mode='constant', preserve_range=True, anti_aliasing=False)\n",
    "        \n",
    "        \n",
    "#     else:\n",
    "#         red    = Image.open(TEST_PATH_R + str(314+int(id_)) + '.png').convert('L')\n",
    "#         green  = Image.open(TEST_PATH_G + str(314+int(id_)) + '.png').convert('L')\n",
    "#         blue   = Image.open(TEST_PATH_B + str(314+int(id_)) + '.png').convert('L')\n",
    "\n",
    "#         rgb = Image.merge(\"RGB\",(red,green,blue))\n",
    "#         img_b = np.asarray(rgb)  \n",
    "#         img_b = resize(img_b, (IMG_HEIGHT, IMG_WIDTH, 3), mode='constant', preserve_range=True).astype(np.uint8)\n",
    "# #         img_b=img_b/255.0\n",
    "#         if img_b.shape != (256, 256, 3):\n",
    "#             print('warning shape doesnt seem right', id_)\n",
    "        \n",
    "#         save_img = Image.fromarray(img_b, 'RGB')\n",
    "#         save_img.save(rgb_img_dir_path + str(int(id_)) + '.png')\n",
    "#         X_test[n] = img_b\n",
    "\n",
    "#         mask = imread(path_data+ 'BQA/test/' + str(int(314+id_)) + '.png')[:,:,1]\n",
    "#         mask1 = resize(mask, (IMG_HEIGHT, IMG_WIDTH), order=0, mode='constant', preserve_range=True, anti_aliasing=False)\n",
    "\n",
    "#     anno = ((mask1==231)*255).astype(np.uint8)\n",
    "#     if np.sum(anno) == 0:\n",
    "#         print('no clouds ', id_)\n",
    "    \n",
    "#     save_anno = Image.fromarray(anno)\n",
    "#     save_anno.save(anno_dir_path + str(int(id_)) + '.png')\n",
    "    \n",
    "#     Y_test[n] = anno\n",
    "    \n"
   ]
  },
  {
   "cell_type": "code",
   "execution_count": null,
   "metadata": {},
   "outputs": [],
   "source": []
  },
  {
   "cell_type": "code",
   "execution_count": null,
   "metadata": {},
   "outputs": [],
   "source": []
  },
  {
   "cell_type": "code",
   "execution_count": null,
   "metadata": {
    "gradient": {
     "editing": false,
     "execution_count": 30,
     "id": "ddd20f90-dc8c-4bbe-900d-c32fd022965e",
     "kernelId": "9e65caa5-9ec9-4353-8b91-12ba92c5cd1b"
    }
   },
   "outputs": [],
   "source": [
    "### Read in and plot dataset 38\n",
    "\n",
    "\n",
    "## dataset_38 tif's\n",
    "# dataset_path = '/Users/Willem/Werk/510/510_cloud_detection/dataset_38'\n",
    "\n",
    "# rgb_img_dir_path = dataset_path + '/rgb_images'\n",
    "# anno_dir_path = dataset_path + '/annotations'\n",
    "\n",
    "# r_train_path = dataset_path + '/38-Cloud_training/train_red'\n",
    "# g_train_path = dataset_path + '/38-Cloud_training/train_green'\n",
    "# b_train_path = dataset_path + '/38-Cloud_training/train_blue'\n",
    "# anno_train_path = dataset_path + '/38-Cloud_training/train_gt'\n",
    "# r_test_path = dataset_path + '/38-Cloud_test/test_red'\n",
    "# g_test_path = dataset_path + '/38-Cloud_test/test_green'\n",
    "# b_test_path = dataset_path + '/38-Cloud_test/test_blue'\n",
    "# anno_test_path = dataset_path + '/38-Cloud_test/test_gt'\n",
    "\n",
    "\n",
    "\n",
    "\n",
    "# non_empty = []\n",
    "\n",
    "# for ind in range(len(r_train_path)):\n",
    "#     red = rio.open(r_train_files[ind])\n",
    "#     green = rio.open(g_train_files[ind])\n",
    "#     blue = rio.open(b_train_files[ind])\n",
    "    \n",
    "#     if np.sum(red.read()) > 0:\n",
    "#         file_name = os.path.basename(r_train_files[ind]).replace('red_patch_', '')\n",
    "#         non_empty.append(file_name)\n",
    "        \n",
    "#     if np.sum(green.read()) > 0:\n",
    "#         file_name = os.path.basename(g_train_files[ind]).replace('green_patch_', '')\n",
    "#         non_empty.append(file_name)\n",
    "        \n",
    "#     if np.sum(blue.read()) > 0:\n",
    "#         file_name = os.path.basename(b_train_files[ind]).replace('blue_patch_', '')\n",
    "#         non_empty.append(file_name)\n",
    "        \n",
    "# non_empty = list(set(non_empty))\n",
    "\n",
    "# for ind in range(len(non_empty)):\n",
    "#     # find the index of the non empty image (different for all bands)\n",
    "#     index_r = [i for i, s in enumerate(r_train_files) if non_empty[ind] in s][0]\n",
    "#     index_g = [i for i, s in enumerate(g_train_files) if non_empty[ind] in s][0]\n",
    "#     index_b = [i for i, s in enumerate(b_train_files) if non_empty[ind] in s][0]\n",
    "    \n",
    "#     # open the same image for all bands\n",
    "#     red = rio.open(r_train_files[index_r])\n",
    "#     green = rio.open(g_train_files[index_g])\n",
    "#     blue = rio.open(b_train_files[index_b])\n",
    "    \n",
    "#     rgb_array = np.stack([(red.read(1)/256).astype('uint8'), (green.read(1)/256).astype('uint8') ,(blue.read(1)/256).astype('uint8')], axis=2)\n",
    "#     plt.imshow(rgb_array)\n",
    "#     plt.show()"
   ]
  },
  {
   "cell_type": "code",
   "execution_count": null,
   "metadata": {},
   "outputs": [],
   "source": []
  },
  {
   "cell_type": "code",
   "execution_count": null,
   "metadata": {
    "gradient": {
     "editing": false,
     "execution_count": 30,
     "id": "175c3f6c-aaf6-4174-b63b-9af4577f1239",
     "kernelId": "9e65caa5-9ec9-4353-8b91-12ba92c5cd1b"
    }
   },
   "outputs": [],
   "source": []
  }
 ],
 "metadata": {
  "kernelspec": {
   "display_name": "Python 3",
   "language": "python",
   "name": "python3"
  },
  "language_info": {
   "codemirror_mode": {
    "name": "ipython",
    "version": 3
   },
   "file_extension": ".py",
   "mimetype": "text/x-python",
   "name": "python",
   "nbconvert_exporter": "python",
   "pygments_lexer": "ipython3",
   "version": "3.7.4"
  }
 },
 "nbformat": 4,
 "nbformat_minor": 4
}
